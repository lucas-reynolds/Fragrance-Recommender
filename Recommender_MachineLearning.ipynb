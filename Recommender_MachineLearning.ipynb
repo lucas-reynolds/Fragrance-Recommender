{
 "cells": [
  {
   "cell_type": "markdown",
   "metadata": {},
   "source": [
    "# Machine Learning\n",
    "\n",
    "With the data scraped, cleaned, and analyzed, I can build and evaluate a recomender."
   ]
  },
  {
   "cell_type": "code",
   "execution_count": 187,
   "metadata": {},
   "outputs": [],
   "source": [
    "# data manipulation\n",
    "import numpy as np\n",
    "import pandas as pd\n",
    "\n",
    "# data visualization\n",
    "import matplotlib.pyplot as plt\n",
    "import seaborn as sns\n",
    "\n",
    "# machine learning\n",
    "from surprise import Reader\n",
    "from surprise import Dataset\n",
    "\n",
    "from surprise import KNNBasic, KNNWithMeans, KNNWithZScore\n",
    "\n",
    "from surprise import NormalPredictor, SVD, NMF\n",
    "\n",
    "from surprise.model_selection import cross_validate\n",
    "from surprise import accuracy"
   ]
  },
  {
   "cell_type": "code",
   "execution_count": 188,
   "metadata": {},
   "outputs": [
    {
     "data": {
      "text/html": [
       "<div>\n",
       "<style scoped>\n",
       "    .dataframe tbody tr th:only-of-type {\n",
       "        vertical-align: middle;\n",
       "    }\n",
       "\n",
       "    .dataframe tbody tr th {\n",
       "        vertical-align: top;\n",
       "    }\n",
       "\n",
       "    .dataframe thead th {\n",
       "        text-align: right;\n",
       "    }\n",
       "</style>\n",
       "<table border=\"1\" class=\"dataframe\">\n",
       "  <thead>\n",
       "    <tr style=\"text-align: right;\">\n",
       "      <th></th>\n",
       "      <th>rating_value</th>\n",
       "      <th>review_id</th>\n",
       "      <th>user_id</th>\n",
       "      <th>user_name</th>\n",
       "      <th>user_location</th>\n",
       "      <th>scent_id</th>\n",
       "      <th>scent_name</th>\n",
       "      <th>review_text</th>\n",
       "      <th>scent_brand</th>\n",
       "    </tr>\n",
       "  </thead>\n",
       "  <tbody>\n",
       "    <tr>\n",
       "      <th>0</th>\n",
       "      <td>2.0</td>\n",
       "      <td>232695</td>\n",
       "      <td>13378905</td>\n",
       "      <td>Sniffers</td>\n",
       "      <td>United States</td>\n",
       "      <td>26133451.0</td>\n",
       "      <td>Cendres de Thé</td>\n",
       "      <td>On opening I get a cardamom smelling tea with ...</td>\n",
       "      <td>Phaedon</td>\n",
       "    </tr>\n",
       "    <tr>\n",
       "      <th>1</th>\n",
       "      <td>1.0</td>\n",
       "      <td>232691</td>\n",
       "      <td>1361</td>\n",
       "      <td>drseid</td>\n",
       "      <td>United States</td>\n",
       "      <td>26158904.0</td>\n",
       "      <td>Salted Green Mango</td>\n",
       "      <td>Salted Green Mango opens with subdued bitter o...</td>\n",
       "      <td>Strangers Parfumerie</td>\n",
       "    </tr>\n",
       "    <tr>\n",
       "      <th>2</th>\n",
       "      <td>2.0</td>\n",
       "      <td>232688</td>\n",
       "      <td>26195006</td>\n",
       "      <td>speedracer</td>\n",
       "      <td>United States</td>\n",
       "      <td>26161313.0</td>\n",
       "      <td>Nuit d'Issey Polaris</td>\n",
       "      <td>Spicy-warm vanilla, green cypress and slightly...</td>\n",
       "      <td>Issey Miyake</td>\n",
       "    </tr>\n",
       "  </tbody>\n",
       "</table>\n",
       "</div>"
      ],
      "text/plain": [
       "   rating_value  review_id   user_id   user_name  user_location    scent_id  \\\n",
       "0           2.0     232695  13378905    Sniffers  United States  26133451.0   \n",
       "1           1.0     232691      1361      drseid  United States  26158904.0   \n",
       "2           2.0     232688  26195006  speedracer  United States  26161313.0   \n",
       "\n",
       "             scent_name                                        review_text  \\\n",
       "0        Cendres de Thé  On opening I get a cardamom smelling tea with ...   \n",
       "1    Salted Green Mango  Salted Green Mango opens with subdued bitter o...   \n",
       "2  Nuit d'Issey Polaris  Spicy-warm vanilla, green cypress and slightly...   \n",
       "\n",
       "            scent_brand  \n",
       "0               Phaedon  \n",
       "1  Strangers Parfumerie  \n",
       "2          Issey Miyake  "
      ]
     },
     "execution_count": 188,
     "metadata": {},
     "output_type": "execute_result"
    }
   ],
   "source": [
    "# import and preview data\n",
    "reviews_df = pd.read_csv('basenotes_reviews_df_clean.csv')\n",
    "\n",
    "reviews_df.head(3)"
   ]
  },
  {
   "cell_type": "markdown",
   "metadata": {},
   "source": [
    "I'm including a random predictor as a baseline model and comparing with SVD and NMF models."
   ]
  },
  {
   "cell_type": "code",
   "execution_count": 189,
   "metadata": {},
   "outputs": [],
   "source": [
    "# instantiate models\n",
    "random_pred = NormalPredictor()\n",
    "svd = SVD()\n",
    "nmf = NMF()\n",
    "\n",
    "reader = Reader(rating_scale=(1,3))\n",
    "\n",
    "data = Dataset.load_from_df(reviews_df[['user_id', 'scent_id', 'rating_value']], reader)\n",
    "\n",
    "random_results = cross_validate(random_pred, data, measures=['RMSE'], cv=5)\n",
    "svd_results = cross_validate(svd, data, measures=['RMSE'], cv=5)\n",
    "nmf_results = cross_validate(nmf, data, measures=['RMSE'], cv=5)"
   ]
  },
  {
   "cell_type": "code",
   "execution_count": 190,
   "metadata": {},
   "outputs": [
    {
     "name": "stdout",
     "output_type": "stream",
     "text": [
      "Average RMSE\n",
      "    Random: 0.92\n",
      "    SVD: 0.68\n",
      "    NMF: 0.74\n"
     ]
    },
    {
     "data": {
      "image/png": "[encoded data removed]",
      "text/plain": [
       "<Figure size 432x288 with 1 Axes>"
      ]
     },
     "metadata": {
      "needs_background": "light"
     },
     "output_type": "display_data"
    }
   ],
   "source": [
    "# compare RMSE\n",
    "random_avg_rmse = random_results['test_rmse'].mean()\n",
    "svd_avg_rmse = svd_results['test_rmse'].mean()\n",
    "nmf_avg_rmse = nmf_results['test_rmse'].mean()\n",
    "\n",
    "print(f\"Average RMSE\\n\\\n",
    "    Random: {random_avg_rmse:.2f}\\n\\\n",
    "    SVD: {svd_avg_rmse:.2f}\\n\\\n",
    "    NMF: {nmf_avg_rmse:.2f}\")\n",
    "\n",
    "models = ['Random', 'SVD', 'NMF']\n",
    "rmse_scores = [random_avg_rmse, svd_avg_rmse, nmf_avg_rmse]\n",
    "\n",
    "sns.barplot(models, rmse_scores)\n",
    "plt.title('Average RMSE Score by Model')\n",
    "plt.show()"
   ]
  },
  {
   "cell_type": "code",
   "execution_count": 191,
   "metadata": {},
   "outputs": [
    {
     "name": "stdout",
     "output_type": "stream",
     "text": [
      "Average fit time\n",
      "    Random: 0.21\n",
      "    SVD: 7.54\n",
      "    NMF: 9.59\n"
     ]
    },
    {
     "data": {
      "image/png": "[encoded data removed]",
      "text/plain": [
       "<Figure size 432x288 with 1 Axes>"
      ]
     },
     "metadata": {
      "needs_background": "light"
     },
     "output_type": "display_data"
    }
   ],
   "source": [
    "# compare fit time\n",
    "random_avg_fit_time = np.array(random_results['fit_time']).mean()\n",
    "svd_avg_fit_time = np.array(svd_results['fit_time']).mean()\n",
    "nmf_avg_fit_time = np.array(nmf_results['fit_time']).mean()\n",
    "\n",
    "print(f\"Average fit time\\n\\\n",
    "    Random: {random_avg_fit_time:.2f}\\n\\\n",
    "    SVD: {svd_avg_fit_time:.2f}\\n\\\n",
    "    NMF: {nmf_avg_fit_time:.2f}\")\n",
    "\n",
    "models = ['Random', 'SVD', 'NMF']\n",
    "fit_times = [random_avg_fit_time, svd_avg_fit_time, nmf_avg_fit_time]\n",
    "\n",
    "sns.barplot(models, fit_times)\n",
    "plt.title('Average Fit Time by Model')\n",
    "plt.show()"
   ]
  },
  {
   "cell_type": "markdown",
   "metadata": {},
   "source": [
    "The SVD model had a lower RMSE and a faster fit time."
   ]
  },
  {
   "cell_type": "code",
   "execution_count": 192,
   "metadata": {},
   "outputs": [],
   "source": [
    "user_ids = reviews_df['user_id'].unique()\n",
    "scent_ids = reviews_df['scent_id'].unique() "
   ]
  },
  {
   "cell_type": "code",
   "execution_count": 297,
   "metadata": {},
   "outputs": [],
   "source": [
    "def top_n_recommendations(n, user_id):\n",
    "    '''Return the top n recommendations for a given user ID.'''\n",
    "    predictions = [svd.predict(uid=user_id, iid=scent) for scent in scent_ids]\n",
    "    \n",
    "    predictions_df = pd.DataFrame(predictions, columns=['uid', 'iid', 'r_ui', 'est', 'details'])\n",
    "    \n",
    "    scent_name_list =[]\n",
    "    \n",
    "    for i in predictions_df['iid']:\n",
    "        scent_name_list.append(reviews_df[reviews_df['scent_id'] == i]['scent_name'].values[0])\n",
    "        \n",
    "    predictions_df['scent_name'] = scent_name_list\n",
    "    \n",
    "    print('Top 3 recommended scents:')\n",
    "    for i in predictions_df.sort_values('est', ascending=False)[:3]['scent_name'].values:\n",
    "        print(i)"
   ]
  },
  {
   "cell_type": "code",
   "execution_count": 298,
   "metadata": {},
   "outputs": [
    {
     "name": "stdout",
     "output_type": "stream",
     "text": [
      "Top 3 recommended scents:\n",
      "S.T. Dupont Homme\n",
      "Thallium\n",
      "Avant Garde\n"
     ]
    }
   ],
   "source": [
    "top_n_recommendations(3, 13378905)"
   ]
  },
  {
   "cell_type": "code",
   "execution_count": null,
   "metadata": {},
   "outputs": [],
   "source": []
  }
 ],
 "metadata": {
  "kernelspec": {
   "display_name": "Python 3",
   "language": "python",
   "name": "python3"
  },
  "language_info": {
   "codemirror_mode": {
    "name": "ipython",
    "version": 3
   },
   "file_extension": ".py",
   "mimetype": "text/x-python",
   "name": "python",
   "nbconvert_exporter": "python",
   "pygments_lexer": "ipython3",
   "version": "3.8.3"
  }
 },
 "nbformat": 4,
 "nbformat_minor": 4
}
