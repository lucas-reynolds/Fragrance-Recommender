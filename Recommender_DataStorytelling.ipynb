{
 "cells": [
  {
   "cell_type": "markdown",
   "metadata": {},
   "source": [
    "# Data Storytelling"
   ]
  },
  {
   "cell_type": "code",
   "execution_count": 151,
   "metadata": {},
   "outputs": [],
   "source": [
    "# data manipulation\n",
    "import numpy as np\n",
    "import pandas as pd\n",
    "\n",
    "# data visualization\n",
    "import matplotlib.pyplot as plt\n",
    "import seaborn as sns\n",
    "sns.set_context('notebook')\n",
    "sns.set_palette('muted')\n",
    "\n",
    "# statistics\n",
    "from scipy import stats"
   ]
  },
  {
   "cell_type": "code",
   "execution_count": 152,
   "metadata": {},
   "outputs": [],
   "source": [
    "reviews_df = pd.read_csv('basenotes_reviews_df_clean.csv')"
   ]
  },
  {
   "cell_type": "code",
   "execution_count": 153,
   "metadata": {},
   "outputs": [
    {
     "data": {
      "text/html": [
       "<div>\n",
       "<style scoped>\n",
       "    .dataframe tbody tr th:only-of-type {\n",
       "        vertical-align: middle;\n",
       "    }\n",
       "\n",
       "    .dataframe tbody tr th {\n",
       "        vertical-align: top;\n",
       "    }\n",
       "\n",
       "    .dataframe thead th {\n",
       "        text-align: right;\n",
       "    }\n",
       "</style>\n",
       "<table border=\"1\" class=\"dataframe\">\n",
       "  <thead>\n",
       "    <tr style=\"text-align: right;\">\n",
       "      <th></th>\n",
       "      <th>rating_value</th>\n",
       "      <th>review_id</th>\n",
       "      <th>user_id</th>\n",
       "      <th>user_name</th>\n",
       "      <th>user_location</th>\n",
       "      <th>scent_id</th>\n",
       "      <th>scent_name</th>\n",
       "      <th>review_text</th>\n",
       "      <th>scent_brand</th>\n",
       "    </tr>\n",
       "  </thead>\n",
       "  <tbody>\n",
       "    <tr>\n",
       "      <th>0</th>\n",
       "      <td>2.0</td>\n",
       "      <td>232695</td>\n",
       "      <td>13378905</td>\n",
       "      <td>Sniffers</td>\n",
       "      <td>United States</td>\n",
       "      <td>26133451.0</td>\n",
       "      <td>Cendres de Thé</td>\n",
       "      <td>On opening I get a cardamom smelling tea with ...</td>\n",
       "      <td>Phaedon</td>\n",
       "    </tr>\n",
       "    <tr>\n",
       "      <th>1</th>\n",
       "      <td>1.0</td>\n",
       "      <td>232691</td>\n",
       "      <td>1361</td>\n",
       "      <td>drseid</td>\n",
       "      <td>United States</td>\n",
       "      <td>26158904.0</td>\n",
       "      <td>Salted Green Mango</td>\n",
       "      <td>Salted Green Mango opens with subdued bitter o...</td>\n",
       "      <td>Strangers Parfumerie</td>\n",
       "    </tr>\n",
       "    <tr>\n",
       "      <th>2</th>\n",
       "      <td>2.0</td>\n",
       "      <td>232688</td>\n",
       "      <td>26195006</td>\n",
       "      <td>speedracer</td>\n",
       "      <td>United States</td>\n",
       "      <td>26161313.0</td>\n",
       "      <td>Nuit d'Issey Polaris</td>\n",
       "      <td>Spicy-warm vanilla, green cypress and slightly...</td>\n",
       "      <td>Issey Miyake</td>\n",
       "    </tr>\n",
       "    <tr>\n",
       "      <th>3</th>\n",
       "      <td>2.0</td>\n",
       "      <td>232682</td>\n",
       "      <td>13381457</td>\n",
       "      <td>rbaker</td>\n",
       "      <td>United Kingdom</td>\n",
       "      <td>26151148.0</td>\n",
       "      <td>Garden Lilies</td>\n",
       "      <td>The lily is present form the start, quite nice...</td>\n",
       "      <td>Jo Malone London</td>\n",
       "    </tr>\n",
       "    <tr>\n",
       "      <th>4</th>\n",
       "      <td>2.0</td>\n",
       "      <td>232676</td>\n",
       "      <td>28472</td>\n",
       "      <td>rogalal</td>\n",
       "      <td>United States</td>\n",
       "      <td>26135345.0</td>\n",
       "      <td>Santa Subita</td>\n",
       "      <td>After a shock of mint quickly passes, this mos...</td>\n",
       "      <td>Technique Indiscrete</td>\n",
       "    </tr>\n",
       "  </tbody>\n",
       "</table>\n",
       "</div>"
      ],
      "text/plain": [
       "   rating_value  review_id   user_id   user_name   user_location    scent_id  \\\n",
       "0           2.0     232695  13378905    Sniffers   United States  26133451.0   \n",
       "1           1.0     232691      1361      drseid   United States  26158904.0   \n",
       "2           2.0     232688  26195006  speedracer   United States  26161313.0   \n",
       "3           2.0     232682  13381457      rbaker  United Kingdom  26151148.0   \n",
       "4           2.0     232676     28472     rogalal   United States  26135345.0   \n",
       "\n",
       "             scent_name                                        review_text  \\\n",
       "0        Cendres de Thé  On opening I get a cardamom smelling tea with ...   \n",
       "1    Salted Green Mango  Salted Green Mango opens with subdued bitter o...   \n",
       "2  Nuit d'Issey Polaris  Spicy-warm vanilla, green cypress and slightly...   \n",
       "3         Garden Lilies  The lily is present form the start, quite nice...   \n",
       "4          Santa Subita  After a shock of mint quickly passes, this mos...   \n",
       "\n",
       "            scent_brand  \n",
       "0               Phaedon  \n",
       "1  Strangers Parfumerie  \n",
       "2          Issey Miyake  \n",
       "3      Jo Malone London  \n",
       "4  Technique Indiscrete  "
      ]
     },
     "execution_count": 153,
     "metadata": {},
     "output_type": "execute_result"
    }
   ],
   "source": [
    "reviews_df.head()"
   ]
  },
  {
   "cell_type": "markdown",
   "metadata": {},
   "source": [
    "## 1. Rating Value"
   ]
  },
  {
   "cell_type": "code",
   "execution_count": 64,
   "metadata": {},
   "outputs": [
    {
     "name": "stdout",
     "output_type": "stream",
     "text": [
      "3.0    0.638312\n",
      "2.0    0.226017\n",
      "1.0    0.135671\n",
      "Name: rating_value, dtype: float64\n"
     ]
    }
   ],
   "source": [
    "rating_value_pcts = reviews_df['rating_value'].value_counts(normalize=True)\n",
    "print(rating_value_pcts)"
   ]
  },
  {
   "cell_type": "code",
   "execution_count": 135,
   "metadata": {},
   "outputs": [
    {
     "data": {
      "image/png": "[encoded data removed]",
      "text/plain": [
       "<Figure size 432x288 with 1 Axes>"
      ]
     },
     "metadata": {
      "needs_background": "light"
     },
     "output_type": "display_data"
    }
   ],
   "source": [
    "sns.barplot(x=rating_value_pcts.index, y=rating_value_pcts)\n",
    "\n",
    "plt.title('Proportion of Rating Values')\n",
    "plt.ylabel('')\n",
    "\n",
    "plt.show()"
   ]
  },
  {
   "cell_type": "code",
   "execution_count": 97,
   "metadata": {},
   "outputs": [
    {
     "data": {
      "text/plain": [
       "count    157373.000000\n",
       "mean          2.502640\n",
       "std           0.722038\n",
       "min           1.000000\n",
       "25%           2.000000\n",
       "50%           3.000000\n",
       "75%           3.000000\n",
       "max           3.000000\n",
       "Name: rating_value, dtype: float64"
      ]
     },
     "execution_count": 97,
     "metadata": {},
     "output_type": "execute_result"
    }
   ],
   "source": [
    "reviews_df['rating_value'].describe()"
   ]
  },
  {
   "cell_type": "code",
   "execution_count": 98,
   "metadata": {},
   "outputs": [
    {
     "data": {
      "text/plain": [
       "2.502640224180768"
      ]
     },
     "execution_count": 98,
     "metadata": {},
     "output_type": "execute_result"
    }
   ],
   "source": [
    "reviews_df['rating_value'].mean()"
   ]
  },
  {
   "cell_type": "code",
   "execution_count": 99,
   "metadata": {},
   "outputs": [
    {
     "data": {
      "text/plain": [
       "3.0"
      ]
     },
     "execution_count": 99,
     "metadata": {},
     "output_type": "execute_result"
    }
   ],
   "source": [
    "reviews_df['rating_value'].median()"
   ]
  },
  {
   "cell_type": "markdown",
   "metadata": {},
   "source": [
    "## 2. Username"
   ]
  },
  {
   "cell_type": "code",
   "execution_count": 165,
   "metadata": {},
   "outputs": [
    {
     "data": {
      "text/plain": [
       "rbaker               2814\n",
       "Darvant              2571\n",
       "foetidus             2346\n",
       "SirSlarty            1910\n",
       "odysseusm            1675\n",
       "JackTwist            1470\n",
       "HouseOfPhlegethon    1381\n",
       "speedracer           1375\n",
       "Kaizen1972           1334\n",
       "Colin Maillard       1254\n",
       "Name: user_name, dtype: int64"
      ]
     },
     "execution_count": 165,
     "metadata": {},
     "output_type": "execute_result"
    }
   ],
   "source": [
    "# calculate counts for each username\n",
    "user_name_counts = reviews_df['user_name'].value_counts()\n",
    "\n",
    "# view top 10 usernames by proportion\n",
    "user_name_counts[:10]"
   ]
  },
  {
   "cell_type": "markdown",
   "metadata": {},
   "source": [
    "The most frequent usernames are each only about 1-2% of reviews so we have a good variety of users."
   ]
  },
  {
   "cell_type": "code",
   "execution_count": 216,
   "metadata": {},
   "outputs": [
    {
     "name": "stdout",
     "output_type": "stream",
     "text": [
      "10 users with highest median rating:\n",
      "                 rating_value\n",
      "user_name                    \n",
      "20scents                  3.0\n",
      "framethephrases           3.0\n",
      "dreese                    3.0\n",
      "drseid                    3.0\n",
      "drussell41                3.0\n",
      "dvdlpznyc                 3.0\n",
      "dynamicddanny             3.0\n",
      "eRL00p                    3.0\n",
      "elgab89                   3.0\n",
      "elmatador75               3.0\n",
      "\n",
      "10 users with lowest median rating:\n",
      "                       rating_value\n",
      "user_name                          \n",
      "Myspunge                        2.0\n",
      "DutchSchwag                     2.0\n",
      "psebi101                        2.0\n",
      "gimmegreen                      2.0\n",
      "duncanw                         1.5\n",
      "photofinish                     1.0\n",
      "JohnnyH                         1.0\n",
      "JennieJenJamz                   1.0\n",
      "everso                          1.0\n",
      "Angelo Orazio Pregoni           1.0\n"
     ]
    }
   ],
   "source": [
    "# exclude users that appear less than 30 times\n",
    "user_names_30 = user_name_counts[user_name_counts >= 30].index\n",
    "\n",
    "# calculate median rating for each drug\n",
    "user_name_median = reviews_df[reviews_df['user_name'].\\\n",
    "                              isin(user_names_30)].\\\n",
    "                              groupby('user_name', axis=0).\\\n",
    "                              agg({'rating_value':'median'})\n",
    "\n",
    "# sort drugs by rating descending\n",
    "user_name_median_sorted = user_name_median.sort_values('rating_value', ascending=False)\n",
    "\n",
    "# display 10 users with highest median rating\n",
    "print(f'10 users with highest median rating:\\n{user_name_median_sorted[:10]}')\n",
    "\n",
    "# display 10 users with lowest median rating\n",
    "print(f'\\n10 users with lowest median rating:\\n{user_name_median_sorted[-10:]}')"
   ]
  },
  {
   "cell_type": "markdown",
   "metadata": {},
   "source": [
    "## 3. User Location"
   ]
  },
  {
   "cell_type": "code",
   "execution_count": 201,
   "metadata": {},
   "outputs": [
    {
     "name": "stdout",
     "output_type": "stream",
     "text": [
      "Number of unique locations: 134\n"
     ]
    }
   ],
   "source": [
    "num_unique_locations = len(reviews_df['user_location'].unique())\n",
    "print(f\"Number of unique locations: {num_unique_locations}\")"
   ]
  },
  {
   "cell_type": "code",
   "execution_count": 200,
   "metadata": {},
   "outputs": [
    {
     "name": "stdout",
     "output_type": "stream",
     "text": [
      "Top 10 locations:\n",
      "United States     0.445661\n",
      "no_location       0.188952\n",
      "United Kingdom    0.076716\n",
      "Italy             0.040560\n",
      "Canada            0.038431\n",
      "Australia         0.021198\n",
      "Netherlands       0.015829\n",
      "Iran              0.012715\n",
      "England           0.012391\n",
      "Sweden            0.010250\n",
      "Name: user_location, dtype: float64\n"
     ]
    }
   ],
   "source": [
    "top_10_locations = reviews_df['user_location'].value_counts(normalize=True)[:10]\n",
    "print(f\"Top 10 locations:\\n{top_10_locations}\")"
   ]
  },
  {
   "cell_type": "code",
   "execution_count": 77,
   "metadata": {},
   "outputs": [
    {
     "name": "stdout",
     "output_type": "stream",
     "text": [
      "Bottom 10 locations:\n",
      "Mauritius               0.000006\n",
      "Haiti                   0.000006\n",
      "Georgia                 0.000006\n",
      "Monaco                  0.000006\n",
      "Ethiopia                0.000006\n",
      "Australia-Aboriginal    0.000006\n",
      "Congo-Kinshasa          0.000006\n",
      "Benin                   0.000006\n",
      "Azores                  0.000006\n",
      "Angola                  0.000006\n",
      "Name: user_location, dtype: float64\n"
     ]
    }
   ],
   "source": [
    "bottom_10_locations = reviews_df['user_location'].value_counts(normalize=True)[-10:]\n",
    "print(f\"Bottom 10 locations:\\n{bottom_10_locations}\")"
   ]
  },
  {
   "cell_type": "code",
   "execution_count": 146,
   "metadata": {},
   "outputs": [
    {
     "data": {
      "image/png": "[encoded data removed]",
      "text/plain": [
       "<Figure size 432x288 with 1 Axes>"
      ]
     },
     "metadata": {
      "needs_background": "light"
     },
     "output_type": "display_data"
    }
   ],
   "source": [
    "sns.barplot(x=top_10_locations.index, y=top_10_locations)\n",
    "\n",
    "plt.title('Top 10 Locations')\n",
    "plt.ylabel('Total Proportion')\n",
    "plt.xticks(rotation=90)\n",
    "\n",
    "\n",
    "plt.show()"
   ]
  },
  {
   "cell_type": "markdown",
   "metadata": {},
   "source": [
    "Nearly half of the reviews are from the United States. The next most frequent location (not counting reviews without a location) is the United Kingdom with only about 7.6% of reviews."
   ]
  },
  {
   "cell_type": "code",
   "execution_count": 215,
   "metadata": {},
   "outputs": [
    {
     "name": "stdout",
     "output_type": "stream",
     "text": [
      "10 countries with highest median rating:\n",
      "                    rating_value\n",
      "user_location                   \n",
      "Lithuania                    3.0\n",
      "Poland                       3.0\n",
      "Scotland                     3.0\n",
      "Saudi Arabia                 3.0\n",
      "Russian Federation           3.0\n",
      "Romania                      3.0\n",
      "Puerto Rico                  3.0\n",
      "Portugal                     3.0\n",
      "Philippine                   3.0\n",
      "Sikkim                       3.0\n",
      "\n",
      "10 countries with lowest median rating:\n",
      "               rating_value\n",
      "user_location              \n",
      "Italy                   3.0\n",
      "Japan                   3.0\n",
      "Austria                 3.0\n",
      "Australia               3.0\n",
      "Bulgaria                3.0\n",
      "Abu Dhabi               2.5\n",
      "Cuba                    2.0\n",
      "Jordan                  2.0\n",
      "Morocco                 2.0\n",
      "Kuwait                  2.0\n"
     ]
    }
   ],
   "source": [
    "# calculate counts for each username\n",
    "user_location_counts = reviews_df['user_location'].value_counts()\n",
    "\n",
    "# exclude users that appear less than 30 times\n",
    "user_location_30 = user_location_counts[user_location_counts >= 30].index\n",
    "\n",
    "# calculate median rating for each drug\n",
    "user_location_median = reviews_df[reviews_df['user_location'].\\\n",
    "                              isin(user_location_30)].\\\n",
    "                              groupby('user_location', axis=0).\\\n",
    "                              agg({'rating_value':'median'})\n",
    "\n",
    "# sort drugs by rating descending\n",
    "user_location_median_sorted = user_location_median.sort_values('rating_value', ascending=False)\n",
    "\n",
    "# display 10 users with highest median rating\n",
    "print(f'10 countries with highest median rating:\\n{user_location_median_sorted[:10]}')\n",
    "\n",
    "# display 10 users with lowest median rating\n",
    "print(f'\\n10 countries with lowest median rating:\\n{user_location_median_sorted[-10:]}')"
   ]
  },
  {
   "cell_type": "markdown",
   "metadata": {},
   "source": [
    "## 4. Scent Name"
   ]
  },
  {
   "cell_type": "code",
   "execution_count": 203,
   "metadata": {},
   "outputs": [
    {
     "name": "stdout",
     "output_type": "stream",
     "text": [
      "Number of unique scent names: 17435\n"
     ]
    }
   ],
   "source": [
    "num_unique_scent_name = len(reviews_df['scent_name'].unique())\n",
    "print(f\"Number of unique scent names: {num_unique_scent_name}\")"
   ]
  },
  {
   "cell_type": "code",
   "execution_count": 204,
   "metadata": {},
   "outputs": [
    {
     "name": "stdout",
     "output_type": "stream",
     "text": [
      "Top 10 scent naems: Vetiver                    0.003342\n",
      "Terre d'Hermès             0.003203\n",
      "A*Men / Angel Men          0.003101\n",
      "Black                      0.003012\n",
      "Green Irish Tweed          0.002739\n",
      "Kouros                     0.002288\n",
      "Fahrenheit                 0.002211\n",
      "Le Mâle                    0.002078\n",
      "Acqua di Giò pour Homme    0.002072\n",
      "Aventus                    0.002059\n",
      "Name: scent_name, dtype: float64\n"
     ]
    }
   ],
   "source": [
    "top_10_scent_names = reviews_df['scent_name'].value_counts(normalize=True)[:10]\n",
    "print(f\"Top 10 scent naems: {top_10_scent_names}\")"
   ]
  },
  {
   "cell_type": "code",
   "execution_count": 205,
   "metadata": {},
   "outputs": [
    {
     "data": {
      "image/png": "[encoded data removed]",
      "text/plain": [
       "<Figure size 432x288 with 1 Axes>"
      ]
     },
     "metadata": {
      "needs_background": "light"
     },
     "output_type": "display_data"
    }
   ],
   "source": [
    "sns.barplot(x=top_10_scent_names.index, y=top_10_scent_names)\n",
    "\n",
    "plt.title('Top 10 Scent Names')\n",
    "plt.ylabel('')\n",
    "plt.xticks(rotation=90)\n",
    "\n",
    "plt.show()"
   ]
  },
  {
   "cell_type": "markdown",
   "metadata": {},
   "source": [
    "There are 17,435 different scents and the most frequent each make up less than 1% of the reviews."
   ]
  },
  {
   "cell_type": "code",
   "execution_count": 214,
   "metadata": {},
   "outputs": [
    {
     "name": "stdout",
     "output_type": "stream",
     "text": [
      "10 scents with highest median rating:\n",
      "                                   rating_value\n",
      "scent_name                                     \n",
      "\"Vintage\" Tabaróme                          3.0\n",
      "Méchant Loup                                3.0\n",
      "Mitsouko Eau de Parfum                      3.0\n",
      "Monocle Scent One : Hinoki                  3.0\n",
      "Monsieur Balmain (new)                      3.0\n",
      "Monsieur de Givenchy                        3.0\n",
      "Montana Parfum d'Homme (original)           3.0\n",
      "Moschino pour Homme                         3.0\n",
      "Mouchoir de Monsieur                        3.0\n",
      "Moustache                                   3.0\n",
      "\n",
      "10 scents with lowest median rating:\n",
      "                                                 rating_value\n",
      "scent_name                                                   \n",
      "Fantasy                                                   2.0\n",
      "Bang                                                      2.0\n",
      "Porsche Design Essence                                    2.0\n",
      "Façonnable Eau de Toilette for Men / Façonnable           2.0\n",
      "Baldessarini Del Mar                                      2.0\n",
      "Nautica Classic                                           1.5\n",
      "Hot Water                                                 1.5\n",
      "Sécrétions Magnifiques                                    1.0\n",
      "cK Free                                                   1.0\n",
      "I am King                                                 1.0\n"
     ]
    }
   ],
   "source": [
    "# calculate counts for each username\n",
    "scent_name_counts = reviews_df['scent_name'].value_counts()\n",
    "\n",
    "# exclude users that appear less than 30 times\n",
    "scent_name_30 = scent_name_counts[scent_name_counts >= 30].index\n",
    "\n",
    "# calculate median rating for each drug\n",
    "scent_name_median = reviews_df[reviews_df['scent_name'].\\\n",
    "                              isin(scent_name_30)].\\\n",
    "                              groupby('scent_name', axis=0).\\\n",
    "                              agg({'rating_value':'median'})\n",
    "\n",
    "# sort drugs by rating descending\n",
    "scent_name_median_sorted = scent_name_median.sort_values('rating_value', ascending=False)\n",
    "\n",
    "# display 10 users with highest median rating\n",
    "print(f'10 scents with highest median rating:\\n{scent_name_median_sorted[:10]}')\n",
    "\n",
    "# display 10 users with lowest median rating\n",
    "print(f'\\n10 scents with lowest median rating:\\n{scent_name_median_sorted[-10:]}')"
   ]
  },
  {
   "cell_type": "markdown",
   "metadata": {},
   "source": [
    "## 5. Scent Brand"
   ]
  },
  {
   "cell_type": "code",
   "execution_count": 104,
   "metadata": {},
   "outputs": [
    {
     "name": "stdout",
     "output_type": "stream",
     "text": [
      "Number of unique scent brands: 2095\n"
     ]
    }
   ],
   "source": [
    "num_unique_scent_brands = len(reviews_df['scent_brand'].unique())\n",
    "print(f\"Number of unique scent brands: {num_unique_scent_brands}\")"
   ]
  },
  {
   "cell_type": "code",
   "execution_count": 107,
   "metadata": {},
   "outputs": [
    {
     "name": "stdout",
     "output_type": "stream",
     "text": [
      "Top 10 scent brands by proportion of reviews:\n",
      "Guerlain              0.031079\n",
      "Creed                 0.028499\n",
      "Chanel                0.024432\n",
      "Christian Dior        0.024248\n",
      "Yves Saint Laurent    0.019584\n",
      "Hermès                0.017188\n",
      "Serge Lutens          0.016864\n",
      "Tom Ford              0.014221\n",
      "Thierry Mugler        0.014151\n",
      "Calvin Klein          0.013535\n",
      "Name: scent_brand, dtype: float64\n"
     ]
    }
   ],
   "source": [
    "top_10_scent_brands = reviews_df['scent_brand'].value_counts(normalize=True)[:10]\n",
    "print(f\"Top 10 scent brands by proportion of reviews:\\n{top_10_scent_brands}\")"
   ]
  },
  {
   "cell_type": "code",
   "execution_count": 108,
   "metadata": {},
   "outputs": [
    {
     "data": {
      "image/png": "[encoded data removed]",
      "text/plain": [
       "<Figure size 432x288 with 1 Axes>"
      ]
     },
     "metadata": {
      "needs_background": "light"
     },
     "output_type": "display_data"
    }
   ],
   "source": [
    "sns.barplot(x=top_10_scent_brands.index, y=top_10_scent_brands)\n",
    "\n",
    "plt.title('Top 10 Scent Brands by Proportion of Reviews')\n",
    "plt.ylabel('')\n",
    "plt.xticks(rotation=90)\n",
    "\n",
    "plt.show()"
   ]
  },
  {
   "cell_type": "code",
   "execution_count": 119,
   "metadata": {},
   "outputs": [
    {
     "data": {
      "text/plain": [
       "Vetiver                             True\n",
       "Terre d'Hermès                      True\n",
       "A*Men / Angel Men                   True\n",
       "Black                               True\n",
       "Green Irish Tweed                   True\n",
       "                                   ...  \n",
       "White Rabbit                       False\n",
       "Legend pour Femme                  False\n",
       "Pour Un Homme Millésime 2014       False\n",
       "Mr. Bubble                         False\n",
       "Endless Ocean Pacific for Women    False\n",
       "Name: scent_name, Length: 17435, dtype: bool"
      ]
     },
     "execution_count": 119,
     "metadata": {},
     "output_type": "execute_result"
    }
   ],
   "source": [
    "reviews_df['scent_name'].value_counts() > 30"
   ]
  },
  {
   "cell_type": "code",
   "execution_count": 116,
   "metadata": {
    "scrolled": true
   },
   "outputs": [
    {
     "data": {
      "text/plain": [
       "1099"
      ]
     },
     "execution_count": 116,
     "metadata": {},
     "output_type": "execute_result"
    }
   ],
   "source": [
    "sum(reviews_df['scent_name'].value_counts() > 30)"
   ]
  }
 ],
 "metadata": {
  "kernelspec": {
   "display_name": "Python 3",
   "language": "python",
   "name": "python3"
  },
  "language_info": {
   "codemirror_mode": {
    "name": "ipython",
    "version": 3
   },
   "file_extension": ".py",
   "mimetype": "text/x-python",
   "name": "python",
   "nbconvert_exporter": "python",
   "pygments_lexer": "ipython3",
   "version": "3.8.3"
  }
 },
 "nbformat": 4,
 "nbformat_minor": 4
}
