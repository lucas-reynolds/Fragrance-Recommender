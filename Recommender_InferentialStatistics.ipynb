{
 "cells": [
  {
   "cell_type": "markdown",
   "metadata": {},
   "source": [
    "# Inferential Statistics"
   ]
  },
  {
   "cell_type": "code",
   "execution_count": 1,
   "metadata": {},
   "outputs": [],
   "source": [
    "# data manipulation\n",
    "import numpy as np\n",
    "import pandas as pd\n",
    "\n",
    "# data visualization\n",
    "import matplotlib.pyplot as plt\n",
    "import seaborn as sns\n",
    "sns.set_context('notebook')\n",
    "sns.set_palette('muted')\n",
    "\n",
    "# statistics\n",
    "from scipy import stats"
   ]
  },
  {
   "cell_type": "code",
   "execution_count": 2,
   "metadata": {},
   "outputs": [],
   "source": [
    "reviews_df = pd.read_csv('basenotes_reviews_df_clean.csv')"
   ]
  },
  {
   "cell_type": "code",
   "execution_count": 3,
   "metadata": {},
   "outputs": [
    {
     "data": {
      "text/html": [
       "<div>\n",
       "<style scoped>\n",
       "    .dataframe tbody tr th:only-of-type {\n",
       "        vertical-align: middle;\n",
       "    }\n",
       "\n",
       "    .dataframe tbody tr th {\n",
       "        vertical-align: top;\n",
       "    }\n",
       "\n",
       "    .dataframe thead th {\n",
       "        text-align: right;\n",
       "    }\n",
       "</style>\n",
       "<table border=\"1\" class=\"dataframe\">\n",
       "  <thead>\n",
       "    <tr style=\"text-align: right;\">\n",
       "      <th></th>\n",
       "      <th>rating_value</th>\n",
       "      <th>review_id</th>\n",
       "      <th>user_id</th>\n",
       "      <th>user_name</th>\n",
       "      <th>user_location</th>\n",
       "      <th>scent_id</th>\n",
       "      <th>scent_name</th>\n",
       "      <th>review_text</th>\n",
       "      <th>scent_brand</th>\n",
       "    </tr>\n",
       "  </thead>\n",
       "  <tbody>\n",
       "    <tr>\n",
       "      <th>0</th>\n",
       "      <td>2.0</td>\n",
       "      <td>232695</td>\n",
       "      <td>13378905</td>\n",
       "      <td>Sniffers</td>\n",
       "      <td>United States</td>\n",
       "      <td>26133451.0</td>\n",
       "      <td>Cendres de Thé</td>\n",
       "      <td>On opening I get a cardamom smelling tea with ...</td>\n",
       "      <td>Phaedon</td>\n",
       "    </tr>\n",
       "    <tr>\n",
       "      <th>1</th>\n",
       "      <td>1.0</td>\n",
       "      <td>232691</td>\n",
       "      <td>1361</td>\n",
       "      <td>drseid</td>\n",
       "      <td>United States</td>\n",
       "      <td>26158904.0</td>\n",
       "      <td>Salted Green Mango</td>\n",
       "      <td>Salted Green Mango opens with subdued bitter o...</td>\n",
       "      <td>Strangers Parfumerie</td>\n",
       "    </tr>\n",
       "    <tr>\n",
       "      <th>2</th>\n",
       "      <td>2.0</td>\n",
       "      <td>232688</td>\n",
       "      <td>26195006</td>\n",
       "      <td>speedracer</td>\n",
       "      <td>United States</td>\n",
       "      <td>26161313.0</td>\n",
       "      <td>Nuit d'Issey Polaris</td>\n",
       "      <td>Spicy-warm vanilla, green cypress and slightly...</td>\n",
       "      <td>Issey Miyake</td>\n",
       "    </tr>\n",
       "    <tr>\n",
       "      <th>3</th>\n",
       "      <td>2.0</td>\n",
       "      <td>232682</td>\n",
       "      <td>13381457</td>\n",
       "      <td>rbaker</td>\n",
       "      <td>United Kingdom</td>\n",
       "      <td>26151148.0</td>\n",
       "      <td>Garden Lilies</td>\n",
       "      <td>The lily is present form the start, quite nice...</td>\n",
       "      <td>Jo Malone London</td>\n",
       "    </tr>\n",
       "    <tr>\n",
       "      <th>4</th>\n",
       "      <td>2.0</td>\n",
       "      <td>232676</td>\n",
       "      <td>28472</td>\n",
       "      <td>rogalal</td>\n",
       "      <td>United States</td>\n",
       "      <td>26135345.0</td>\n",
       "      <td>Santa Subita</td>\n",
       "      <td>After a shock of mint quickly passes, this mos...</td>\n",
       "      <td>Technique Indiscrete</td>\n",
       "    </tr>\n",
       "  </tbody>\n",
       "</table>\n",
       "</div>"
      ],
      "text/plain": [
       "   rating_value  review_id   user_id   user_name   user_location    scent_id  \\\n",
       "0           2.0     232695  13378905    Sniffers   United States  26133451.0   \n",
       "1           1.0     232691      1361      drseid   United States  26158904.0   \n",
       "2           2.0     232688  26195006  speedracer   United States  26161313.0   \n",
       "3           2.0     232682  13381457      rbaker  United Kingdom  26151148.0   \n",
       "4           2.0     232676     28472     rogalal   United States  26135345.0   \n",
       "\n",
       "             scent_name                                        review_text  \\\n",
       "0        Cendres de Thé  On opening I get a cardamom smelling tea with ...   \n",
       "1    Salted Green Mango  Salted Green Mango opens with subdued bitter o...   \n",
       "2  Nuit d'Issey Polaris  Spicy-warm vanilla, green cypress and slightly...   \n",
       "3         Garden Lilies  The lily is present form the start, quite nice...   \n",
       "4          Santa Subita  After a shock of mint quickly passes, this mos...   \n",
       "\n",
       "            scent_brand  \n",
       "0               Phaedon  \n",
       "1  Strangers Parfumerie  \n",
       "2          Issey Miyake  \n",
       "3      Jo Malone London  \n",
       "4  Technique Indiscrete  "
      ]
     },
     "execution_count": 3,
     "metadata": {},
     "output_type": "execute_result"
    }
   ],
   "source": [
    "reviews_df.head()"
   ]
  },
  {
   "cell_type": "markdown",
   "metadata": {},
   "source": [
    "## 1. Username"
   ]
  },
  {
   "cell_type": "code",
   "execution_count": 4,
   "metadata": {},
   "outputs": [],
   "source": [
    "def t_test(data, column, value):\n",
    "    '''Function to run a t-test and return a value with its p-value.'''\n",
    "    has = data[data[column] == value]['rating_value']\n",
    "    has_not = data[data[column] != value]['rating_value']\n",
    "    t, p = stats.ttest_ind(has, has_not)\n",
    "    return p"
   ]
  },
  {
   "cell_type": "code",
   "execution_count": 7,
   "metadata": {},
   "outputs": [],
   "source": [
    "# set alpha\n",
    "alpha = 0.05\n",
    "\n",
    "# calculate counts for each username\n",
    "user_name_counts = reviews_df['user_name'].value_counts()\n",
    "\n",
    "# exclude users that appear less than 30 times\n",
    "user_names_30 = user_name_counts[user_name_counts >= 30].index\n",
    "\n",
    "# perform t-test on ratings with and without each username\n",
    "pvalue_user_names = [(i, t_test(reviews_df, 'user_name', i)) for i in user_names_30]\n",
    "\n",
    "# return usernames with p-values below alpha along with their p-values\n",
    "sig_user_names = [(i[0], float(i[1])) for i in pvalue_user_names if float(i[1]) < alpha]"
   ]
  },
  {
   "cell_type": "code",
   "execution_count": 9,
   "metadata": {},
   "outputs": [
    {
     "data": {
      "text/plain": [
       "415"
      ]
     },
     "execution_count": 9,
     "metadata": {},
     "output_type": "execute_result"
    }
   ],
   "source": [
    "len(sig_user_names)"
   ]
  },
  {
   "cell_type": "code",
   "execution_count": 10,
   "metadata": {},
   "outputs": [],
   "source": [
    "def sig_avg_diff(data, column, value):\n",
    "    '''Return difference of mean ratings with and without each username.'''\n",
    "    has = np.mean(data[data[column] == value]['rating_value'])\n",
    "    has_not = np.mean(data[data[column] != value]['rating_value'])\n",
    "    diff = has - has_not\n",
    "    return diff"
   ]
  },
  {
   "cell_type": "code",
   "execution_count": 11,
   "metadata": {},
   "outputs": [],
   "source": [
    "# make list of significant usernames\n",
    "sig_user_names_list = [i[0] for i in sig_user_names]\n",
    "\n",
    "# significant avg. difference of mean rating for each username\n",
    "username_avg_diff = [(i, sig_avg_diff(reviews_df, 'user_name', i)) for i in sig_user_names_list]\n",
    "\n",
    "# create dataframe of significant avg. difference\n",
    "username_avg_diff_df = pd.DataFrame(username_avg_diff, columns=['user_name', 'sig_avg_diff'])"
   ]
  },
  {
   "cell_type": "code",
   "execution_count": 12,
   "metadata": {},
   "outputs": [
    {
     "name": "stdout",
     "output_type": "stream",
     "text": [
      "10 users with largest increase in significant avg. difference of rating:\n",
      "              user_name  sig_avg_diff\n",
      "297          Oslo-Fjord      0.497505\n",
      "320             Shahram      0.497493\n",
      "338        Indagnacious      0.497483\n",
      "395            prince64      0.497461\n",
      "399           cologne65      0.497458\n",
      "43   Redneck Perfumisto      0.487950\n",
      "295                 wtb      0.475760\n",
      "193            ericrico      0.471272\n",
      "364            milamber      0.469689\n",
      "59           RUDOLFO512      0.469518\n",
      "\n",
      "10 users with largest decrease in significant avg. difference of rating:\n",
      "                 user_name  sig_avg_diff\n",
      "220            photofinish     -1.253150\n",
      "191          JennieJenJamz     -0.918674\n",
      "294                 everso     -0.758186\n",
      "209  Angelo Orazio Pregoni     -0.752966\n",
      "282                duncanw     -0.742876\n",
      "254       Allen-on-Holiday     -0.721074\n",
      "232               calnadur     -0.719581\n",
      "405     noideawhatimsaying     -0.696326\n",
      "319            Bo Darville     -0.693301\n",
      "219            Jay-Lux'eau     -0.674790\n"
     ]
    }
   ],
   "source": [
    "# print 10 usernames with the largest significant avg. increase in rating\n",
    "top_user_names_avg_diff = username_avg_diff_df.sort_values('sig_avg_diff', ascending=False)[:10]\n",
    "print(f\"10 users with largest increase in significant avg. difference of rating:\\n{top_user_names_avg_diff}\")\n",
    "\n",
    "# print 10 drugs with largest average decrease\n",
    "bottom_user_names_avg_diff = username_avg_diff_df.sort_values('sig_avg_diff', ascending=True)[:10]\n",
    "print(f\"\\n10 users with largest decrease in significant avg. difference of rating:\\n{bottom_user_names_avg_diff}\")"
   ]
  },
  {
   "cell_type": "markdown",
   "metadata": {},
   "source": [
    "## 2. User Country"
   ]
  },
  {
   "cell_type": "code",
   "execution_count": 25,
   "metadata": {},
   "outputs": [],
   "source": [
    "# set alpha\n",
    "alpha = 0.05\n",
    "\n",
    "# calculate counts for each country\n",
    "country_counts = reviews_df['user_location'].value_counts()\n",
    "\n",
    "# exclude users that appear less than 30 times\n",
    "country_30 = country_counts[country_counts >= 30].index\n",
    "\n",
    "# perform t-test on ratings with and without each username\n",
    "pvalue_country = [(i, t_test(reviews_df, 'user_location', i)) for i in country_30]\n",
    "\n",
    "# return usernames with p-values below alpha along with their p-values\n",
    "sig_country = [(i[0], float(i[1])) for i in pvalue_country if float(i[1]) < alpha]"
   ]
  },
  {
   "cell_type": "code",
   "execution_count": 28,
   "metadata": {},
   "outputs": [
    {
     "data": {
      "text/plain": [
       "37"
      ]
     },
     "execution_count": 28,
     "metadata": {},
     "output_type": "execute_result"
    }
   ],
   "source": [
    "len(sig_country)"
   ]
  },
  {
   "cell_type": "code",
   "execution_count": 30,
   "metadata": {},
   "outputs": [],
   "source": [
    "# make list of significant countries\n",
    "sig_country_list = [i[0] for i in sig_country]\n",
    "\n",
    "# significant avg. difference of mean rating for each country\n",
    "country_avg_diff = [(i, sig_avg_diff(reviews_df, 'user_location', i)) for i in sig_country_list]\n",
    "\n",
    "# create dataframe of significant avg. difference\n",
    "country_avg_diff_df = pd.DataFrame(country_avg_diff, columns=['user_location', 'sig_avg_diff'])"
   ]
  },
  {
   "cell_type": "code",
   "execution_count": 31,
   "metadata": {},
   "outputs": [
    {
     "name": "stdout",
     "output_type": "stream",
     "text": [
      "10 countries with largest increase in significant avg. difference of rating:\n",
      "   user_location  sig_avg_diff\n",
      "35        Guyana      0.309923\n",
      "32         China      0.273596\n",
      "27       Denmark      0.216525\n",
      "33      Slovakia      0.205137\n",
      "9        Nigeria      0.192611\n",
      "26     Lithuania      0.190755\n",
      "24     Argentina      0.151406\n",
      "29     Hong Kong      0.141015\n",
      "17   New Zealand      0.136561\n",
      "11         Spain      0.126664\n",
      "\n",
      "10 country with largest decrease in significant avg. difference of rating:\n",
      "   user_location  sig_avg_diff\n",
      "31        Jordan     -0.374621\n",
      "36        Kuwait     -0.336038\n",
      "18          Cuba     -0.319398\n",
      "28       Morocco     -0.261173\n",
      "34  Saudi Arabia     -0.252743\n",
      "25       Austria     -0.220089\n",
      "4    Netherlands     -0.206838\n",
      "30        Cyprus     -0.180901\n",
      "10        France     -0.172943\n",
      "20        Norway     -0.145056\n"
     ]
    }
   ],
   "source": [
    "# print 10 countries with the largest significant avg. increase in rating\n",
    "top_country_avg_diff = country_avg_diff_df.sort_values('sig_avg_diff', ascending=False)[:10]\n",
    "print(f\"10 countries with largest increase in significant avg. difference of rating:\\n{top_country_avg_diff}\")\n",
    "\n",
    "# print 10 countries with largest average decrease\n",
    "bottom_country_avg_diff = country_avg_diff_df.sort_values('sig_avg_diff', ascending=True)[:10]\n",
    "print(f\"\\n10 country with largest decrease in significant avg. difference of rating:\\n{bottom_country_avg_diff}\")"
   ]
  },
  {
   "cell_type": "markdown",
   "metadata": {},
   "source": [
    "## 3. Scents"
   ]
  },
  {
   "cell_type": "code",
   "execution_count": 32,
   "metadata": {},
   "outputs": [],
   "source": [
    "# set alpha\n",
    "alpha = 0.05\n",
    "\n",
    "# calculate counts for each scent\n",
    "scent_counts = reviews_df['scent_name'].value_counts()\n",
    "\n",
    "# exclude scents that appear less than 30 times\n",
    "scent_30 = scent_counts[scent_counts >= 30].index\n",
    "\n",
    "# perform t-test on ratings with and without each scents\n",
    "pvalue_scent = [(i, t_test(reviews_df, 'scent_name', i)) for i in scent_30]\n",
    "\n",
    "# return scents with p-values below alpha along with their p-values\n",
    "sig_scent = [(i[0], float(i[1])) for i in pvalue_scent if float(i[1]) < alpha]"
   ]
  },
  {
   "cell_type": "code",
   "execution_count": 33,
   "metadata": {},
   "outputs": [
    {
     "data": {
      "text/plain": [
       "407"
      ]
     },
     "execution_count": 33,
     "metadata": {},
     "output_type": "execute_result"
    }
   ],
   "source": [
    "len(sig_scent)"
   ]
  },
  {
   "cell_type": "code",
   "execution_count": 35,
   "metadata": {},
   "outputs": [],
   "source": [
    "# make list of significant scents\n",
    "sig_scent_list = [i[0] for i in sig_scent]\n",
    "\n",
    "# significant avg. difference of mean rating for each scent\n",
    "scent_avg_diff = [(i, sig_avg_diff(reviews_df, 'scent_name', i)) for i in sig_scent_list]\n",
    "\n",
    "# create dataframe with significant avg. differences\n",
    "scent_avg_diff_df = pd.DataFrame(scent_avg_diff, columns=['scent_name', 'sig_avg_diff'])"
   ]
  },
  {
   "cell_type": "code",
   "execution_count": 37,
   "metadata": {},
   "outputs": [
    {
     "name": "stdout",
     "output_type": "stream",
     "text": [
      "10 scents with largest increase in significant avg. difference of rating:\n",
      "                                      scent_name  sig_avg_diff\n",
      "372                                 Agua Lavanda      0.497461\n",
      "397                          Moschino pour Homme      0.497455\n",
      "149                         Bois des Îles Parfum      0.427130\n",
      "341                                   Polo Crest      0.411737\n",
      "168                              Italian Cypress      0.402283\n",
      "284                                         Nemo      0.402229\n",
      "304                     Gianfranco Ferré for Man      0.397461\n",
      "339  parfums*PARFUMS Series 3 Incense: Jaisalmer      0.383159\n",
      "350               Fendi (original) / Fendi Donna      0.379795\n",
      "357                                       Ténéré      0.379795\n",
      "\n",
      "10 scents with largest decrease in significant avg. difference of rating:\n",
      "                              scent_name  sig_avg_diff\n",
      "363                              cK Free     -1.078624\n",
      "398                            Hot Water     -0.869473\n",
      "241  Exceptional Because You Are for Men     -0.849844\n",
      "186                            I am King     -0.757161\n",
      "79                Sécrétions Magnifiques     -0.727434\n",
      "320                      Nautica Classic     -0.713339\n",
      "313                   Boss Bottled Night     -0.687017\n",
      "310               Porsche Design Essence     -0.682296\n",
      "300                      Romance for Men     -0.652806\n",
      "152                       Only The Brave     -0.633353\n"
     ]
    }
   ],
   "source": [
    "# print 10 scents with the largest significant avg. increase in rating\n",
    "top_scent_avg_diff = scent_avg_diff_df.sort_values('sig_avg_diff', ascending=False)[:10]\n",
    "print(f\"10 scents with largest increase in significant avg. difference of rating:\\n{top_scent_names_avg_diff}\")\n",
    "\n",
    "# print 10 scents with largest average decrease\n",
    "bottom_scent_avg_diff = scent_avg_diff_df.sort_values('sig_avg_diff', ascending=True)[:10]\n",
    "print(f\"\\n10 scents with largest decrease in significant avg. difference of rating:\\n{bottom_scent_avg_diff}\")"
   ]
  },
  {
   "cell_type": "markdown",
   "metadata": {},
   "source": [
    "## 3. Brands"
   ]
  },
  {
   "cell_type": "code",
   "execution_count": 39,
   "metadata": {},
   "outputs": [],
   "source": [
    "# set alpha\n",
    "alpha = 0.05\n",
    "\n",
    "# calculate counts for each brand\n",
    "brand_counts = reviews_df['scent_brand'].value_counts()\n",
    "\n",
    "# exclude brands that appear less than 30 times\n",
    "brand_30 = brand_counts[brand_counts >= 30].index\n",
    "\n",
    "# perform t-test on ratings with and without each brands\n",
    "pvalue_brand = [(i, t_test(reviews_df, 'scent_brand', i)) for i in brand_30]\n",
    "\n",
    "# return usernames with p-values below alpha along with their p-values\n",
    "sig_brand = [(i[0], float(i[1])) for i in pvalue_brand if float(i[1]) < alpha]"
   ]
  },
  {
   "cell_type": "code",
   "execution_count": 40,
   "metadata": {},
   "outputs": [
    {
     "data": {
      "text/plain": [
       "217"
      ]
     },
     "execution_count": 40,
     "metadata": {},
     "output_type": "execute_result"
    }
   ],
   "source": [
    "len(sig_brand)"
   ]
  },
  {
   "cell_type": "code",
   "execution_count": 21,
   "metadata": {},
   "outputs": [],
   "source": [
    "# make list of significant brands\n",
    "sig_scent_brands_list = [i[0] for i in sig_scent_brands]\n",
    "\n",
    "# significant avg. difference of mean rating for each brand\n",
    "scent_brands_avg_diff = [(i, sig_avg_diff(reviews_df, 'scent_brand', i)) for i in sig_scent_brands_list]\n",
    "\n",
    "# create dataframe of significant avg. difference\n",
    "scent_brands_avg_diff_df = pd.DataFrame(scent_brands_avg_diff, columns=['scent_brand', 'sig_avg_diff'])"
   ]
  },
  {
   "cell_type": "code",
   "execution_count": 22,
   "metadata": {},
   "outputs": [
    {
     "name": "stdout",
     "output_type": "stream",
     "text": [
      "10 brands with largest increase in significant avg. difference of rating:\n",
      "              scent_brand  sig_avg_diff\n",
      "131          Sultan Pasha      0.399580\n",
      "197        Fort and Manlé      0.392191\n",
      "173              Révillon      0.382101\n",
      "210  Fragrances of France      0.372436\n",
      "120     Long Lost Perfume      0.367566\n",
      "192     Fragrance Du Bois      0.351110\n",
      "175               Sospiro      0.340607\n",
      "141         Areej le Doré      0.339629\n",
      "159           Arabian Oud      0.338765\n",
      "177       Parfums Vintage      0.337467\n",
      "\n",
      "10 brands with largest decrease in significant avg. difference of rating:\n",
      "                  scent_brand  sig_avg_diff\n",
      "148               Exceptional     -0.760121\n",
      "185                   Porsche     -0.609205\n",
      "166                 Illuminum     -0.539863\n",
      "188          Pierre Guillaume     -0.480555\n",
      "201  People of the Labyrinths     -0.474174\n",
      "212                  Candie's     -0.470475\n",
      "138                     Usher     -0.467599\n",
      "183                     Wings     -0.460224\n",
      "194        Christian Audigier     -0.452755\n",
      "199              MiN New York     -0.448692\n"
     ]
    }
   ],
   "source": [
    "# print 10 brands with the largest significant avg. increase in rating\n",
    "top_scent_brands_avg_diff = scent_brands_avg_diff_df.sort_values('sig_avg_diff', ascending=False)[:10]\n",
    "print(f\"10 brands with largest increase in significant avg. difference of rating:\\n{top_scent_brands_avg_diff}\")\n",
    "\n",
    "# print 10 brands with largest average decrease\n",
    "bottom_scent_brands_avg_diff = scent_brands_avg_diff_df.sort_values('sig_avg_diff', ascending=True)[:10]\n",
    "print(f\"\\n10 brands with largest decrease in significant avg. difference of rating:\\n{bottom_scent_brands_avg_diff}\")"
   ]
  },
  {
   "cell_type": "code",
   "execution_count": null,
   "metadata": {},
   "outputs": [],
   "source": []
  }
 ],
 "metadata": {
  "kernelspec": {
   "display_name": "Python 3",
   "language": "python",
   "name": "python3"
  },
  "language_info": {
   "codemirror_mode": {
    "name": "ipython",
    "version": 3
   },
   "file_extension": ".py",
   "mimetype": "text/x-python",
   "name": "python",
   "nbconvert_exporter": "python",
   "pygments_lexer": "ipython3",
   "version": "3.8.3"
  }
 },
 "nbformat": 4,
 "nbformat_minor": 4
}
