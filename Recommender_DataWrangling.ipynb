{
 "cells": [
  {
   "cell_type": "code",
   "execution_count": 119,
   "metadata": {},
   "outputs": [],
   "source": [
    "import numpy as np\n",
    "import pandas as pd"
   ]
  },
  {
   "cell_type": "code",
   "execution_count": 120,
   "metadata": {
    "scrolled": false
   },
   "outputs": [
    {
     "name": "stderr",
     "output_type": "stream",
     "text": [
      "/Users/lucasreynolds/opt/anaconda3/lib/python3.8/site-packages/IPython/core/interactiveshell.py:3071: DtypeWarning: Columns (1,2) have mixed types.Specify dtype option on import or set low_memory=False.\n",
      "  has_raised = await self.run_ast_nodes(code_ast.body, cell_name,\n"
     ]
    }
   ],
   "source": [
    "reviews_df = pd.read_csv('basenotes_reviews_df.csv')"
   ]
  },
  {
   "cell_type": "code",
   "execution_count": 121,
   "metadata": {},
   "outputs": [
    {
     "data": {
      "text/html": [
       "<div>\n",
       "<style scoped>\n",
       "    .dataframe tbody tr th:only-of-type {\n",
       "        vertical-align: middle;\n",
       "    }\n",
       "\n",
       "    .dataframe tbody tr th {\n",
       "        vertical-align: top;\n",
       "    }\n",
       "\n",
       "    .dataframe thead th {\n",
       "        text-align: right;\n",
       "    }\n",
       "</style>\n",
       "<table border=\"1\" class=\"dataframe\">\n",
       "  <thead>\n",
       "    <tr style=\"text-align: right;\">\n",
       "      <th></th>\n",
       "      <th>rating_value</th>\n",
       "      <th>review_id</th>\n",
       "      <th>user_id</th>\n",
       "      <th>user_name</th>\n",
       "      <th>user_location</th>\n",
       "      <th>scent_id</th>\n",
       "      <th>scent_name</th>\n",
       "      <th>review_text</th>\n",
       "      <th>scent_brand</th>\n",
       "    </tr>\n",
       "  </thead>\n",
       "  <tbody>\n",
       "    <tr>\n",
       "      <th>0</th>\n",
       "      <td>2.0</td>\n",
       "      <td>232864</td>\n",
       "      <td>26195006</td>\n",
       "      <td>speedracer</td>\n",
       "      <td>United States</td>\n",
       "      <td>26160732.0</td>\n",
       "      <td>L'Homme Idéal Extrême</td>\n",
       "      <td>Starts off very much like the original Ideal, ...</td>\n",
       "      <td>NaN</td>\n",
       "    </tr>\n",
       "    <tr>\n",
       "      <th>1</th>\n",
       "      <td>3.0</td>\n",
       "      <td>232854</td>\n",
       "      <td>26193350</td>\n",
       "      <td>epapsiou</td>\n",
       "      <td>Sikkim</td>\n",
       "      <td>26158303.0</td>\n",
       "      <td>Fougère L'Aube</td>\n",
       "      <td>Stardate 20200815:\\n\\r\\nOpens up as bitter-gre...</td>\n",
       "      <td>NaN</td>\n",
       "    </tr>\n",
       "    <tr>\n",
       "      <th>2</th>\n",
       "      <td>3.0</td>\n",
       "      <td>232852</td>\n",
       "      <td>26210582</td>\n",
       "      <td>HouseOfPhlegethon</td>\n",
       "      <td>United States</td>\n",
       "      <td>26142534.0</td>\n",
       "      <td>Journey Woman</td>\n",
       "      <td>Jasmine almost smothers the apricot and osmant...</td>\n",
       "      <td>NaN</td>\n",
       "    </tr>\n",
       "    <tr>\n",
       "      <th>3</th>\n",
       "      <td>3.0</td>\n",
       "      <td>232851</td>\n",
       "      <td>26210582</td>\n",
       "      <td>HouseOfPhlegethon</td>\n",
       "      <td>United States</td>\n",
       "      <td>26153253.0</td>\n",
       "      <td>Eiderantler</td>\n",
       "      <td>Floral green.  Wet greens.  Sweet green notes....</td>\n",
       "      <td>NaN</td>\n",
       "    </tr>\n",
       "    <tr>\n",
       "      <th>4</th>\n",
       "      <td>3.0</td>\n",
       "      <td>232850</td>\n",
       "      <td>26210582</td>\n",
       "      <td>HouseOfPhlegethon</td>\n",
       "      <td>United States</td>\n",
       "      <td>26160913.0</td>\n",
       "      <td>Dinudisit (Sea Flowers)</td>\n",
       "      <td>Intense, sort of sweet flowers.  Big narcissus...</td>\n",
       "      <td>NaN</td>\n",
       "    </tr>\n",
       "  </tbody>\n",
       "</table>\n",
       "</div>"
      ],
      "text/plain": [
       "   rating_value review_id   user_id          user_name  user_location  \\\n",
       "0           2.0    232864  26195006         speedracer  United States   \n",
       "1           3.0    232854  26193350           epapsiou         Sikkim   \n",
       "2           3.0    232852  26210582  HouseOfPhlegethon  United States   \n",
       "3           3.0    232851  26210582  HouseOfPhlegethon  United States   \n",
       "4           3.0    232850  26210582  HouseOfPhlegethon  United States   \n",
       "\n",
       "     scent_id               scent_name  \\\n",
       "0  26160732.0    L'Homme Idéal Extrême   \n",
       "1  26158303.0           Fougère L'Aube   \n",
       "2  26142534.0            Journey Woman   \n",
       "3  26153253.0              Eiderantler   \n",
       "4  26160913.0  Dinudisit (Sea Flowers)   \n",
       "\n",
       "                                         review_text scent_brand  \n",
       "0  Starts off very much like the original Ideal, ...         NaN  \n",
       "1  Stardate 20200815:\\n\\r\\nOpens up as bitter-gre...         NaN  \n",
       "2  Jasmine almost smothers the apricot and osmant...         NaN  \n",
       "3  Floral green.  Wet greens.  Sweet green notes....         NaN  \n",
       "4  Intense, sort of sweet flowers.  Big narcissus...         NaN  "
      ]
     },
     "execution_count": 121,
     "metadata": {},
     "output_type": "execute_result"
    }
   ],
   "source": [
    "reviews_df.head()"
   ]
  },
  {
   "cell_type": "code",
   "execution_count": 122,
   "metadata": {},
   "outputs": [
    {
     "name": "stdout",
     "output_type": "stream",
     "text": [
      "<class 'pandas.core.frame.DataFrame'>\n",
      "RangeIndex: 159324 entries, 0 to 159323\n",
      "Data columns (total 9 columns):\n",
      " #   Column         Non-Null Count   Dtype  \n",
      "---  ------         --------------   -----  \n",
      " 0   rating_value   159317 non-null  float64\n",
      " 1   review_id      159324 non-null  object \n",
      " 2   user_id        159324 non-null  object \n",
      " 3   user_name      157520 non-null  object \n",
      " 4   user_location  127711 non-null  object \n",
      " 5   scent_id       159317 non-null  float64\n",
      " 6   scent_name     159317 non-null  object \n",
      " 7   review_text    159293 non-null  object \n",
      " 8   scent_brand    159280 non-null  object \n",
      "dtypes: float64(2), object(7)\n",
      "memory usage: 10.9+ MB\n"
     ]
    }
   ],
   "source": [
    "reviews_df.info()"
   ]
  },
  {
   "cell_type": "code",
   "execution_count": 123,
   "metadata": {},
   "outputs": [],
   "source": [
    "# pd.to_numeric(reviews_df['review_id'])"
   ]
  },
  {
   "cell_type": "markdown",
   "metadata": {},
   "source": [
    "I attempted to convert review_id column to numeric data type, but there was an error. Looks like there is at least one review's text that's in that column. Some reviews must not have parsed into the correct fields."
   ]
  },
  {
   "cell_type": "markdown",
   "metadata": {},
   "source": [
    "## 2. Missing Values"
   ]
  },
  {
   "cell_type": "code",
   "execution_count": 124,
   "metadata": {},
   "outputs": [
    {
     "data": {
      "text/plain": [
       "rating_value     0.000044\n",
       "review_id        0.000000\n",
       "user_id          0.000000\n",
       "user_name        0.011323\n",
       "user_location    0.198420\n",
       "scent_id         0.000044\n",
       "scent_name       0.000044\n",
       "review_text      0.000195\n",
       "scent_brand      0.000276\n",
       "dtype: float64"
      ]
     },
     "execution_count": 124,
     "metadata": {},
     "output_type": "execute_result"
    }
   ],
   "source": [
    "# calculate null percentages\n",
    "reviews_df.isnull().sum()/len(reviews_df)"
   ]
  },
  {
   "cell_type": "markdown",
   "metadata": {},
   "source": [
    "About 20% of user_location is null, but I noticed a lot of reviews didn't have user location listed so this isn't a big surprise.\n",
    "\n",
    "About 1% of user_name is null, I wonder if Basenotes allows for anonymous reviews or if this is due to a data issue. I'll review this further in my next steps.\n",
    "\n",
    "All other fields have less than 1% nulls. Rating_value, user_id, scent_id, and scent_name all have the same percentage of null values. I wonder if they are all due to the same rows."
   ]
  },
  {
   "cell_type": "markdown",
   "metadata": {},
   "source": [
    "### 2.1 Rating Value"
   ]
  },
  {
   "cell_type": "code",
   "execution_count": 125,
   "metadata": {},
   "outputs": [
    {
     "data": {
      "text/plain": [
       "3.0    0.637998\n",
       "2.0    0.225337\n",
       "1.0    0.135974\n",
       "7.0    0.000690\n",
       "Name: rating_value, dtype: float64"
      ]
     },
     "execution_count": 125,
     "metadata": {},
     "output_type": "execute_result"
    }
   ],
   "source": [
    "# review rating values\n",
    "reviews_df['rating_value'].value_counts(normalize=True)"
   ]
  },
  {
   "cell_type": "markdown",
   "metadata": {},
   "source": [
    "There should only be 3 rating values: 1 for thumbs down, 2 for thumb horizontal, and 3 for thumbs up. I'm not sure why there is a 7 for some values in this field. I want to sample some of these rows."
   ]
  },
  {
   "cell_type": "code",
   "execution_count": 126,
   "metadata": {
    "scrolled": true
   },
   "outputs": [
    {
     "data": {
      "text/html": [
       "<div>\n",
       "<style scoped>\n",
       "    .dataframe tbody tr th:only-of-type {\n",
       "        vertical-align: middle;\n",
       "    }\n",
       "\n",
       "    .dataframe tbody tr th {\n",
       "        vertical-align: top;\n",
       "    }\n",
       "\n",
       "    .dataframe thead th {\n",
       "        text-align: right;\n",
       "    }\n",
       "</style>\n",
       "<table border=\"1\" class=\"dataframe\">\n",
       "  <thead>\n",
       "    <tr style=\"text-align: right;\">\n",
       "      <th></th>\n",
       "      <th>rating_value</th>\n",
       "      <th>review_id</th>\n",
       "      <th>user_id</th>\n",
       "      <th>user_name</th>\n",
       "      <th>user_location</th>\n",
       "      <th>scent_id</th>\n",
       "      <th>scent_name</th>\n",
       "      <th>review_text</th>\n",
       "      <th>scent_brand</th>\n",
       "    </tr>\n",
       "  </thead>\n",
       "  <tbody>\n",
       "    <tr>\n",
       "      <th>145781</th>\n",
       "      <td>7.0</td>\n",
       "      <td>24732</td>\n",
       "      <td>5138</td>\n",
       "      <td>Strange Accord</td>\n",
       "      <td>United States</td>\n",
       "      <td>26123581.0</td>\n",
       "      <td>Bois et Musc</td>\n",
       "      <td>Lovely topnotes.  Quickly enters nice buy weak...</td>\n",
       "      <td>Serge Lutens</td>\n",
       "    </tr>\n",
       "    <tr>\n",
       "      <th>146021</th>\n",
       "      <td>7.0</td>\n",
       "      <td>24702</td>\n",
       "      <td>5121</td>\n",
       "      <td>vinterdroppe</td>\n",
       "      <td>Sweden</td>\n",
       "      <td>10212395.0</td>\n",
       "      <td>Habanita</td>\n",
       "      <td>It´s hard for me to do either thumbs up or dow...</td>\n",
       "      <td>Molinard</td>\n",
       "    </tr>\n",
       "    <tr>\n",
       "      <th>146361</th>\n",
       "      <td>7.0</td>\n",
       "      <td>15711</td>\n",
       "      <td>3408</td>\n",
       "      <td>Naed_Nitram</td>\n",
       "      <td>NaN</td>\n",
       "      <td>26121250.0</td>\n",
       "      <td>O'Pomelo / Pamplemousse</td>\n",
       "      <td>The preliminary rendition of acerbic grapefrui...</td>\n",
       "      <td>Comptoir Sud Pacifique</td>\n",
       "    </tr>\n",
       "    <tr>\n",
       "      <th>146703</th>\n",
       "      <td>7.0</td>\n",
       "      <td>16196</td>\n",
       "      <td>3502</td>\n",
       "      <td>Nikolas@_</td>\n",
       "      <td>NaN</td>\n",
       "      <td>26120881.0</td>\n",
       "      <td>Joop! Homme</td>\n",
       "      <td>Homme by Joop!I actually had a girlfriend who...</td>\n",
       "      <td>Joop!</td>\n",
       "    </tr>\n",
       "    <tr>\n",
       "      <th>146760</th>\n",
       "      <td>7.0</td>\n",
       "      <td>13906</td>\n",
       "      <td>2971</td>\n",
       "      <td>mancheeros</td>\n",
       "      <td>NaN</td>\n",
       "      <td>26122372.0</td>\n",
       "      <td>Cuir de Russie</td>\n",
       "      <td>undoubtedly the 'dirtiest' of the Creed scents...</td>\n",
       "      <td>Creed</td>\n",
       "    </tr>\n",
       "  </tbody>\n",
       "</table>\n",
       "</div>"
      ],
      "text/plain": [
       "        rating_value review_id user_id       user_name  user_location  \\\n",
       "145781           7.0     24732    5138  Strange Accord  United States   \n",
       "146021           7.0     24702    5121    vinterdroppe         Sweden   \n",
       "146361           7.0     15711    3408     Naed_Nitram            NaN   \n",
       "146703           7.0     16196    3502       Nikolas@_            NaN   \n",
       "146760           7.0     13906    2971      mancheeros            NaN   \n",
       "\n",
       "          scent_id               scent_name  \\\n",
       "145781  26123581.0             Bois et Musc   \n",
       "146021  10212395.0                 Habanita   \n",
       "146361  26121250.0  O'Pomelo / Pamplemousse   \n",
       "146703  26120881.0              Joop! Homme   \n",
       "146760  26122372.0           Cuir de Russie   \n",
       "\n",
       "                                              review_text  \\\n",
       "145781  Lovely topnotes.  Quickly enters nice buy weak...   \n",
       "146021  It´s hard for me to do either thumbs up or dow...   \n",
       "146361  The preliminary rendition of acerbic grapefrui...   \n",
       "146703   Homme by Joop!I actually had a girlfriend who...   \n",
       "146760  undoubtedly the 'dirtiest' of the Creed scents...   \n",
       "\n",
       "                   scent_brand  \n",
       "145781            Serge Lutens  \n",
       "146021                Molinard  \n",
       "146361  Comptoir Sud Pacifique  \n",
       "146703                   Joop!  \n",
       "146760                   Creed  "
      ]
     },
     "execution_count": 126,
     "metadata": {},
     "output_type": "execute_result"
    }
   ],
   "source": [
    "# sample rows with a rating value of 7\n",
    "rating_value_7 = reviews_df[reviews_df['rating_value'] == 7]\n",
    "rating_value_7.head()"
   ]
  },
  {
   "cell_type": "markdown",
   "metadata": {},
   "source": [
    "The rest of the data in these rows appears to have parsed correctly. I'm not exactly sure where they 7 came from. This is something I'll want to review and correct before any additional parsing. For now, I'm going to drop these rows."
   ]
  },
  {
   "cell_type": "code",
   "execution_count": 127,
   "metadata": {},
   "outputs": [
    {
     "data": {
      "text/plain": [
       "0"
      ]
     },
     "execution_count": 127,
     "metadata": {},
     "output_type": "execute_result"
    }
   ],
   "source": [
    "# drop rows with rating value of 7\n",
    "reviews_df = reviews_df[reviews_df['rating_value'] != 7]\n",
    "\n",
    "# verify that rows with rating value of 7 were dropped\n",
    "len(reviews_df[reviews_df['rating_value'] == 7])"
   ]
  },
  {
   "cell_type": "code",
   "execution_count": 130,
   "metadata": {},
   "outputs": [
    {
     "data": {
      "text/plain": [
       "7"
      ]
     },
     "execution_count": 130,
     "metadata": {},
     "output_type": "execute_result"
    }
   ],
   "source": [
    "# calculate number of rows with null rating value\n",
    "reviews_df['rating_value'].isnull().sum()"
   ]
  },
  {
   "cell_type": "code",
   "execution_count": 131,
   "metadata": {},
   "outputs": [
    {
     "data": {
      "text/html": [
       "<div>\n",
       "<style scoped>\n",
       "    .dataframe tbody tr th:only-of-type {\n",
       "        vertical-align: middle;\n",
       "    }\n",
       "\n",
       "    .dataframe tbody tr th {\n",
       "        vertical-align: top;\n",
       "    }\n",
       "\n",
       "    .dataframe thead th {\n",
       "        text-align: right;\n",
       "    }\n",
       "</style>\n",
       "<table border=\"1\" class=\"dataframe\">\n",
       "  <thead>\n",
       "    <tr style=\"text-align: right;\">\n",
       "      <th></th>\n",
       "      <th>rating_value</th>\n",
       "      <th>review_id</th>\n",
       "      <th>user_id</th>\n",
       "      <th>user_name</th>\n",
       "      <th>user_location</th>\n",
       "      <th>scent_id</th>\n",
       "      <th>scent_name</th>\n",
       "      <th>review_text</th>\n",
       "      <th>scent_brand</th>\n",
       "    </tr>\n",
       "  </thead>\n",
       "  <tbody>\n",
       "    <tr>\n",
       "      <th>5943</th>\n",
       "      <td>NaN</td>\n",
       "      <td>This has truly turned out to be an intense eni...</td>\n",
       "      <td>Sultan Pasha</td>\n",
       "      <td>NaN</td>\n",
       "      <td>NaN</td>\n",
       "      <td>NaN</td>\n",
       "      <td>NaN</td>\n",
       "      <td>NaN</td>\n",
       "      <td>NaN</td>\n",
       "    </tr>\n",
       "    <tr>\n",
       "      <th>6511</th>\n",
       "      <td>NaN</td>\n",
       "      <td>The smell brings to mind rowing around little ...</td>\n",
       "      <td>Sultan Pasha</td>\n",
       "      <td>NaN</td>\n",
       "      <td>NaN</td>\n",
       "      <td>NaN</td>\n",
       "      <td>NaN</td>\n",
       "      <td>NaN</td>\n",
       "      <td>NaN</td>\n",
       "    </tr>\n",
       "    <tr>\n",
       "      <th>11730</th>\n",
       "      <td>NaN</td>\n",
       "      <td>Per Fumum: A Sanctified Rose is probably my pe...</td>\n",
       "      <td>Annette Neuffer</td>\n",
       "      <td>NaN</td>\n",
       "      <td>NaN</td>\n",
       "      <td>NaN</td>\n",
       "      <td>NaN</td>\n",
       "      <td>NaN</td>\n",
       "      <td>NaN</td>\n",
       "    </tr>\n",
       "    <tr>\n",
       "      <th>17552</th>\n",
       "      <td>NaN</td>\n",
       "      <td>Galantuomo is all about civilized spice – it’s...</td>\n",
       "      <td>Bottega Profumiera</td>\n",
       "      <td>NaN</td>\n",
       "      <td>NaN</td>\n",
       "      <td>NaN</td>\n",
       "      <td>NaN</td>\n",
       "      <td>NaN</td>\n",
       "      <td>NaN</td>\n",
       "    </tr>\n",
       "    <tr>\n",
       "      <th>19417</th>\n",
       "      <td>NaN</td>\n",
       "      <td>Sampled from a splash vial last night. Imagine...</td>\n",
       "      <td>Bottega Profumiera</td>\n",
       "      <td>NaN</td>\n",
       "      <td>NaN</td>\n",
       "      <td>NaN</td>\n",
       "      <td>NaN</td>\n",
       "      <td>NaN</td>\n",
       "      <td>NaN</td>\n",
       "    </tr>\n",
       "  </tbody>\n",
       "</table>\n",
       "</div>"
      ],
      "text/plain": [
       "       rating_value                                          review_id  \\\n",
       "5943            NaN  This has truly turned out to be an intense eni...   \n",
       "6511            NaN  The smell brings to mind rowing around little ...   \n",
       "11730           NaN  Per Fumum: A Sanctified Rose is probably my pe...   \n",
       "17552           NaN  Galantuomo is all about civilized spice – it’s...   \n",
       "19417           NaN  Sampled from a splash vial last night. Imagine...   \n",
       "\n",
       "                  user_id user_name user_location  scent_id scent_name  \\\n",
       "5943         Sultan Pasha       NaN           NaN       NaN        NaN   \n",
       "6511         Sultan Pasha       NaN           NaN       NaN        NaN   \n",
       "11730     Annette Neuffer       NaN           NaN       NaN        NaN   \n",
       "17552  Bottega Profumiera       NaN           NaN       NaN        NaN   \n",
       "19417  Bottega Profumiera       NaN           NaN       NaN        NaN   \n",
       "\n",
       "      review_text scent_brand  \n",
       "5943          NaN         NaN  \n",
       "6511          NaN         NaN  \n",
       "11730         NaN         NaN  \n",
       "17552         NaN         NaN  \n",
       "19417         NaN         NaN  "
      ]
     },
     "execution_count": 131,
     "metadata": {},
     "output_type": "execute_result"
    }
   ],
   "source": [
    "# sample rows with null rating value\n",
    "nulls_rating_value = reviews_df[reviews_df['rating_value'].isna()]\n",
    "nulls_rating_value.head()"
   ]
  },
  {
   "cell_type": "markdown",
   "metadata": {},
   "source": [
    "The data for these reviews must not have parsed correctly. I'll go back and review/test my code to determine why this occurred, but for now I'm choosing to remove these since there are only 7 rows."
   ]
  },
  {
   "cell_type": "code",
   "execution_count": 132,
   "metadata": {},
   "outputs": [
    {
     "data": {
      "text/plain": [
       "0"
      ]
     },
     "execution_count": 132,
     "metadata": {},
     "output_type": "execute_result"
    }
   ],
   "source": [
    "# drop rows with rating missing\n",
    "reviews_df = reviews_df[reviews_df['rating_value'].notna()]\n",
    "\n",
    "# verify null ratings were dropped\n",
    "reviews_df['rating_value'].isna().sum()"
   ]
  },
  {
   "cell_type": "markdown",
   "metadata": {},
   "source": [
    "### 2.2 User ID"
   ]
  },
  {
   "cell_type": "code",
   "execution_count": 133,
   "metadata": {},
   "outputs": [
    {
     "data": {
      "text/plain": [
       "0"
      ]
     },
     "execution_count": 133,
     "metadata": {},
     "output_type": "execute_result"
    }
   ],
   "source": [
    "# calculate the number of rows with null user id\n",
    "reviews_df['user_id'].isna().sum()"
   ]
  },
  {
   "cell_type": "markdown",
   "metadata": {},
   "source": [
    "The rows with null user_id must have also been the rows with null rating_value and were already removed."
   ]
  },
  {
   "cell_type": "markdown",
   "metadata": {},
   "source": [
    "### 2.3 User Name"
   ]
  },
  {
   "cell_type": "code",
   "execution_count": 134,
   "metadata": {},
   "outputs": [
    {
     "data": {
      "text/plain": [
       "1797"
      ]
     },
     "execution_count": 134,
     "metadata": {},
     "output_type": "execute_result"
    }
   ],
   "source": [
    "# calculate number of rows with null user name\n",
    "reviews_df['user_name'].isna().sum()"
   ]
  },
  {
   "cell_type": "code",
   "execution_count": 135,
   "metadata": {},
   "outputs": [
    {
     "data": {
      "text/html": [
       "<div>\n",
       "<style scoped>\n",
       "    .dataframe tbody tr th:only-of-type {\n",
       "        vertical-align: middle;\n",
       "    }\n",
       "\n",
       "    .dataframe tbody tr th {\n",
       "        vertical-align: top;\n",
       "    }\n",
       "\n",
       "    .dataframe thead th {\n",
       "        text-align: right;\n",
       "    }\n",
       "</style>\n",
       "<table border=\"1\" class=\"dataframe\">\n",
       "  <thead>\n",
       "    <tr style=\"text-align: right;\">\n",
       "      <th></th>\n",
       "      <th>rating_value</th>\n",
       "      <th>review_id</th>\n",
       "      <th>user_id</th>\n",
       "      <th>user_name</th>\n",
       "      <th>user_location</th>\n",
       "      <th>scent_id</th>\n",
       "      <th>scent_name</th>\n",
       "      <th>review_text</th>\n",
       "      <th>scent_brand</th>\n",
       "    </tr>\n",
       "  </thead>\n",
       "  <tbody>\n",
       "    <tr>\n",
       "      <th>4040</th>\n",
       "      <td>3.0</td>\n",
       "      <td>223358</td>\n",
       "      <td>26278519</td>\n",
       "      <td>NaN</td>\n",
       "      <td>NaN</td>\n",
       "      <td>26141824.0</td>\n",
       "      <td>Oud Noir Intense</td>\n",
       "      <td>So I'm on my second day and second application...</td>\n",
       "      <td>Fragrance Du Bois</td>\n",
       "    </tr>\n",
       "    <tr>\n",
       "      <th>4322</th>\n",
       "      <td>3.0</td>\n",
       "      <td>222859</td>\n",
       "      <td>26278519</td>\n",
       "      <td>NaN</td>\n",
       "      <td>NaN</td>\n",
       "      <td>26138467.0</td>\n",
       "      <td>Dries Van Noten par Frederic Malle</td>\n",
       "      <td>Dries Van Noten by FM , Wow, What a wonderfull...</td>\n",
       "      <td>Editions de Parfums Frederic Malle</td>\n",
       "    </tr>\n",
       "    <tr>\n",
       "      <th>7542</th>\n",
       "      <td>2.0</td>\n",
       "      <td>216417</td>\n",
       "      <td>26261143</td>\n",
       "      <td>NaN</td>\n",
       "      <td>NaN</td>\n",
       "      <td>26137673.0</td>\n",
       "      <td>L'Heure de Nuit</td>\n",
       "      <td>Guerlain, why have you forsaken me?  L’Heure B...</td>\n",
       "      <td>Guerlain</td>\n",
       "    </tr>\n",
       "    <tr>\n",
       "      <th>7543</th>\n",
       "      <td>3.0</td>\n",
       "      <td>216413</td>\n",
       "      <td>26261143</td>\n",
       "      <td>NaN</td>\n",
       "      <td>NaN</td>\n",
       "      <td>26131425.0</td>\n",
       "      <td>Les Heures de Parfum - XII L'Heure Mystérieuse</td>\n",
       "      <td>Mysterious and bewitching, Cartier L’Heure Mys...</td>\n",
       "      <td>Cartier</td>\n",
       "    </tr>\n",
       "    <tr>\n",
       "      <th>9100</th>\n",
       "      <td>3.0</td>\n",
       "      <td>213539</td>\n",
       "      <td>26261143</td>\n",
       "      <td>NaN</td>\n",
       "      <td>NaN</td>\n",
       "      <td>26131761.0</td>\n",
       "      <td>Shem-el-Nessim</td>\n",
       "      <td>*copied from my own review at Twisted Lily, da...</td>\n",
       "      <td>Grossmith</td>\n",
       "    </tr>\n",
       "  </tbody>\n",
       "</table>\n",
       "</div>"
      ],
      "text/plain": [
       "      rating_value review_id   user_id user_name user_location    scent_id  \\\n",
       "4040           3.0    223358  26278519       NaN           NaN  26141824.0   \n",
       "4322           3.0    222859  26278519       NaN           NaN  26138467.0   \n",
       "7542           2.0    216417  26261143       NaN           NaN  26137673.0   \n",
       "7543           3.0    216413  26261143       NaN           NaN  26131425.0   \n",
       "9100           3.0    213539  26261143       NaN           NaN  26131761.0   \n",
       "\n",
       "                                          scent_name  \\\n",
       "4040                                Oud Noir Intense   \n",
       "4322              Dries Van Noten par Frederic Malle   \n",
       "7542                                 L'Heure de Nuit   \n",
       "7543  Les Heures de Parfum - XII L'Heure Mystérieuse   \n",
       "9100                                  Shem-el-Nessim   \n",
       "\n",
       "                                            review_text  \\\n",
       "4040  So I'm on my second day and second application...   \n",
       "4322  Dries Van Noten by FM , Wow, What a wonderfull...   \n",
       "7542  Guerlain, why have you forsaken me?  L’Heure B...   \n",
       "7543  Mysterious and bewitching, Cartier L’Heure Mys...   \n",
       "9100  *copied from my own review at Twisted Lily, da...   \n",
       "\n",
       "                             scent_brand  \n",
       "4040                   Fragrance Du Bois  \n",
       "4322  Editions de Parfums Frederic Malle  \n",
       "7542                            Guerlain  \n",
       "7543                             Cartier  \n",
       "9100                           Grossmith  "
      ]
     },
     "execution_count": 135,
     "metadata": {},
     "output_type": "execute_result"
    }
   ],
   "source": [
    "# sample rows with null user name\n",
    "nulls_user_name = reviews_df[reviews_df['user_name'].isna()]\n",
    "nulls_user_name.head()"
   ]
  },
  {
   "cell_type": "markdown",
   "metadata": {},
   "source": [
    "I'm curious whether the user IDs for these null usernames may be anywhere else in the dataframe and have the username. They could be used to fill these rows."
   ]
  },
  {
   "cell_type": "code",
   "execution_count": 136,
   "metadata": {},
   "outputs": [],
   "source": [
    "# create an array of the user IDs that are in the rows with null usernames\n",
    "null_user_name_ids = nulls_user_name['user_id'].unique()"
   ]
  },
  {
   "cell_type": "code",
   "execution_count": 137,
   "metadata": {},
   "outputs": [
    {
     "data": {
      "text/plain": [
       "0"
      ]
     },
     "execution_count": 137,
     "metadata": {},
     "output_type": "execute_result"
    }
   ],
   "source": [
    "# see if any of the user IDs for the null usernames have usernames elsewhere\n",
    "is_null_list = []\n",
    "\n",
    "for id in null_user_name_ids:\n",
    "    is_null = reviews_df[reviews_df['user_id'] == id]['user_name'].notna().sum()\n",
    "    is_null_list.append(is_null)\n",
    "    \n",
    "sum(is_null_list)"
   ]
  },
  {
   "cell_type": "markdown",
   "metadata": {},
   "source": [
    "There aren't any other rows with these user IDs that have usernames I can use to fill. For now I'll drop these rows. I may come back and look more into why these are null."
   ]
  },
  {
   "cell_type": "code",
   "execution_count": 138,
   "metadata": {},
   "outputs": [
    {
     "data": {
      "text/plain": [
       "0"
      ]
     },
     "execution_count": 138,
     "metadata": {},
     "output_type": "execute_result"
    }
   ],
   "source": [
    "# drop rows with null user name\n",
    "reviews_df = reviews_df[reviews_df['user_name'].notna()]\n",
    "\n",
    "# verify the rows were dropped\n",
    "reviews_df['user_name'].isna().sum()"
   ]
  },
  {
   "cell_type": "markdown",
   "metadata": {},
   "source": [
    "### 2.4 User Location"
   ]
  },
  {
   "cell_type": "code",
   "execution_count": 139,
   "metadata": {},
   "outputs": [
    {
     "data": {
      "text/plain": [
       "29739"
      ]
     },
     "execution_count": 139,
     "metadata": {},
     "output_type": "execute_result"
    }
   ],
   "source": [
    "# calculate the number of null user locations\n",
    "reviews_df['user_location'].isna().sum()"
   ]
  },
  {
   "cell_type": "code",
   "execution_count": 140,
   "metadata": {},
   "outputs": [
    {
     "data": {
      "text/html": [
       "<div>\n",
       "<style scoped>\n",
       "    .dataframe tbody tr th:only-of-type {\n",
       "        vertical-align: middle;\n",
       "    }\n",
       "\n",
       "    .dataframe tbody tr th {\n",
       "        vertical-align: top;\n",
       "    }\n",
       "\n",
       "    .dataframe thead th {\n",
       "        text-align: right;\n",
       "    }\n",
       "</style>\n",
       "<table border=\"1\" class=\"dataframe\">\n",
       "  <thead>\n",
       "    <tr style=\"text-align: right;\">\n",
       "      <th></th>\n",
       "      <th>rating_value</th>\n",
       "      <th>review_id</th>\n",
       "      <th>user_id</th>\n",
       "      <th>user_name</th>\n",
       "      <th>user_location</th>\n",
       "      <th>scent_id</th>\n",
       "      <th>scent_name</th>\n",
       "      <th>review_text</th>\n",
       "      <th>scent_brand</th>\n",
       "    </tr>\n",
       "  </thead>\n",
       "  <tbody>\n",
       "    <tr>\n",
       "      <th>12</th>\n",
       "      <td>3.0</td>\n",
       "      <td>232776</td>\n",
       "      <td>26226431</td>\n",
       "      <td>Constantine</td>\n",
       "      <td>NaN</td>\n",
       "      <td>26155990.0</td>\n",
       "      <td>Century</td>\n",
       "      <td>Grapefruit cardamom musk sandalwood are the no...</td>\n",
       "      <td>NaN</td>\n",
       "    </tr>\n",
       "    <tr>\n",
       "      <th>19</th>\n",
       "      <td>1.0</td>\n",
       "      <td>232755</td>\n",
       "      <td>26226431</td>\n",
       "      <td>Constantine</td>\n",
       "      <td>NaN</td>\n",
       "      <td>26159222.0</td>\n",
       "      <td>Spice Blend</td>\n",
       "      <td>This smells like cheap nail varnish. Something...</td>\n",
       "      <td>NaN</td>\n",
       "    </tr>\n",
       "    <tr>\n",
       "      <th>22</th>\n",
       "      <td>3.0</td>\n",
       "      <td>232746</td>\n",
       "      <td>26270042</td>\n",
       "      <td>smooth_operator</td>\n",
       "      <td>NaN</td>\n",
       "      <td>26159550.0</td>\n",
       "      <td>Harrods Aoud</td>\n",
       "      <td>As exceptional as Roja usually is, this is a r...</td>\n",
       "      <td>NaN</td>\n",
       "    </tr>\n",
       "    <tr>\n",
       "      <th>57</th>\n",
       "      <td>2.0</td>\n",
       "      <td>232585</td>\n",
       "      <td>26226431</td>\n",
       "      <td>Constantine</td>\n",
       "      <td>NaN</td>\n",
       "      <td>26147281.0</td>\n",
       "      <td>Sunshine Man</td>\n",
       "      <td>This is Amouage's take on Roja Dove's Risque. ...</td>\n",
       "      <td>Amouage</td>\n",
       "    </tr>\n",
       "    <tr>\n",
       "      <th>69</th>\n",
       "      <td>2.0</td>\n",
       "      <td>232544</td>\n",
       "      <td>26256039</td>\n",
       "      <td>framethephrases</td>\n",
       "      <td>NaN</td>\n",
       "      <td>26140106.0</td>\n",
       "      <td>No. 42 The Flower Shop</td>\n",
       "      <td>I'm giving this fragrance three stars. It's a ...</td>\n",
       "      <td>Jo Loves...</td>\n",
       "    </tr>\n",
       "  </tbody>\n",
       "</table>\n",
       "</div>"
      ],
      "text/plain": [
       "    rating_value review_id   user_id        user_name user_location  \\\n",
       "12           3.0    232776  26226431      Constantine           NaN   \n",
       "19           1.0    232755  26226431      Constantine           NaN   \n",
       "22           3.0    232746  26270042  smooth_operator           NaN   \n",
       "57           2.0    232585  26226431      Constantine           NaN   \n",
       "69           2.0    232544  26256039  framethephrases           NaN   \n",
       "\n",
       "      scent_id              scent_name  \\\n",
       "12  26155990.0                 Century   \n",
       "19  26159222.0             Spice Blend   \n",
       "22  26159550.0            Harrods Aoud   \n",
       "57  26147281.0            Sunshine Man   \n",
       "69  26140106.0  No. 42 The Flower Shop   \n",
       "\n",
       "                                          review_text  scent_brand  \n",
       "12  Grapefruit cardamom musk sandalwood are the no...          NaN  \n",
       "19  This smells like cheap nail varnish. Something...          NaN  \n",
       "22  As exceptional as Roja usually is, this is a r...          NaN  \n",
       "57  This is Amouage's take on Roja Dove's Risque. ...      Amouage  \n",
       "69  I'm giving this fragrance three stars. It's a ...  Jo Loves...  "
      ]
     },
     "execution_count": 140,
     "metadata": {},
     "output_type": "execute_result"
    }
   ],
   "source": [
    "# sample rows with null user locations\n",
    "nulls_user_location = reviews_df[reviews_df['user_location'].isna()]\n",
    "nulls_user_location.head()"
   ]
  },
  {
   "cell_type": "markdown",
   "metadata": {},
   "source": [
    "I noticed before parsing the reviews that not all users have a location listed. I'm curious if there is a relationship between user location and rating or between whether a user listed their location and rating so I don't want to drop the field. Instead I'll fill null user locations with no_location."
   ]
  },
  {
   "cell_type": "code",
   "execution_count": 141,
   "metadata": {
    "scrolled": true
   },
   "outputs": [
    {
     "data": {
      "text/plain": [
       "0"
      ]
     },
     "execution_count": 141,
     "metadata": {},
     "output_type": "execute_result"
    }
   ],
   "source": [
    "# fill null user locations with no_location\n",
    "reviews_df['user_location'] = reviews_df['user_location'].fillna('no_location')\n",
    "\n",
    "# verify that nulls were filled\n",
    "reviews_df['user_location'].isna().sum()"
   ]
  },
  {
   "cell_type": "markdown",
   "metadata": {},
   "source": [
    "### 2.5 Scent ID"
   ]
  },
  {
   "cell_type": "code",
   "execution_count": 142,
   "metadata": {},
   "outputs": [
    {
     "name": "stdout",
     "output_type": "stream",
     "text": [
      "Number of null scent IDs: 0\n"
     ]
    }
   ],
   "source": [
    "num_null_scent_id = reviews_df['scent_id'].isna().sum()\n",
    "print(f\"Number of null scent IDs: {num_null_scent_id}\")"
   ]
  },
  {
   "cell_type": "markdown",
   "metadata": {},
   "source": [
    "The rows with null scent IDs must have also been the rows with null ratings and were already dropped."
   ]
  },
  {
   "cell_type": "markdown",
   "metadata": {},
   "source": [
    "### 2.6 Scent Name"
   ]
  },
  {
   "cell_type": "code",
   "execution_count": 143,
   "metadata": {},
   "outputs": [
    {
     "name": "stdout",
     "output_type": "stream",
     "text": [
      "Number of null scent names: 0\n"
     ]
    }
   ],
   "source": [
    "num_null_scent_name = reviews_df['scent_name'].isna().sum()\n",
    "print(f\"Number of null scent names: {num_null_scent_name}\")"
   ]
  },
  {
   "cell_type": "markdown",
   "metadata": {},
   "source": [
    "The rows with null scent names must have also been the rows with null ratings. They were already dropped."
   ]
  },
  {
   "cell_type": "markdown",
   "metadata": {},
   "source": [
    "### 2.7 Review Text"
   ]
  },
  {
   "cell_type": "code",
   "execution_count": 144,
   "metadata": {},
   "outputs": [
    {
     "data": {
      "text/plain": [
       "24"
      ]
     },
     "execution_count": 144,
     "metadata": {},
     "output_type": "execute_result"
    }
   ],
   "source": [
    "# calcualate the number of rows with null review text\n",
    "reviews_df['review_text'].isna().sum()"
   ]
  },
  {
   "cell_type": "code",
   "execution_count": 145,
   "metadata": {},
   "outputs": [
    {
     "data": {
      "text/html": [
       "<div>\n",
       "<style scoped>\n",
       "    .dataframe tbody tr th:only-of-type {\n",
       "        vertical-align: middle;\n",
       "    }\n",
       "\n",
       "    .dataframe tbody tr th {\n",
       "        vertical-align: top;\n",
       "    }\n",
       "\n",
       "    .dataframe thead th {\n",
       "        text-align: right;\n",
       "    }\n",
       "</style>\n",
       "<table border=\"1\" class=\"dataframe\">\n",
       "  <thead>\n",
       "    <tr style=\"text-align: right;\">\n",
       "      <th></th>\n",
       "      <th>rating_value</th>\n",
       "      <th>review_id</th>\n",
       "      <th>user_id</th>\n",
       "      <th>user_name</th>\n",
       "      <th>user_location</th>\n",
       "      <th>scent_id</th>\n",
       "      <th>scent_name</th>\n",
       "      <th>review_text</th>\n",
       "      <th>scent_brand</th>\n",
       "    </tr>\n",
       "  </thead>\n",
       "  <tbody>\n",
       "    <tr>\n",
       "      <th>2759</th>\n",
       "      <td>3.0</td>\n",
       "      <td>225851</td>\n",
       "      <td>13447096</td>\n",
       "      <td>CleverUsername</td>\n",
       "      <td>no_location</td>\n",
       "      <td>26128887.0</td>\n",
       "      <td>17/17 Irisss</td>\n",
       "      <td>NaN</td>\n",
       "      <td>Xerjoff</td>\n",
       "    </tr>\n",
       "    <tr>\n",
       "      <th>4382</th>\n",
       "      <td>2.0</td>\n",
       "      <td>223510</td>\n",
       "      <td>3676</td>\n",
       "      <td>Paradeiserl</td>\n",
       "      <td>no_location</td>\n",
       "      <td>26159853.0</td>\n",
       "      <td>Halfeti Leather</td>\n",
       "      <td>NaN</td>\n",
       "      <td>Penhaligon's</td>\n",
       "    </tr>\n",
       "    <tr>\n",
       "      <th>5942</th>\n",
       "      <td>3.0</td>\n",
       "      <td>219573</td>\n",
       "      <td>13378905</td>\n",
       "      <td>Sniffers</td>\n",
       "      <td>United States</td>\n",
       "      <td>26148710.0</td>\n",
       "      <td>Enigma intense</td>\n",
       "      <td>NaN</td>\n",
       "      <td>NaN</td>\n",
       "    </tr>\n",
       "    <tr>\n",
       "      <th>6510</th>\n",
       "      <td>2.0</td>\n",
       "      <td>218441</td>\n",
       "      <td>13378905</td>\n",
       "      <td>Sniffers</td>\n",
       "      <td>United States</td>\n",
       "      <td>26148712.0</td>\n",
       "      <td>Via Dolorosa</td>\n",
       "      <td>NaN</td>\n",
       "      <td>NaN</td>\n",
       "    </tr>\n",
       "    <tr>\n",
       "      <th>11729</th>\n",
       "      <td>3.0</td>\n",
       "      <td>209155</td>\n",
       "      <td>4825</td>\n",
       "      <td>the_good_life</td>\n",
       "      <td>Germany</td>\n",
       "      <td>26150430.0</td>\n",
       "      <td>Per Fumum: A Sanctified Rose</td>\n",
       "      <td>NaN</td>\n",
       "      <td>NaN</td>\n",
       "    </tr>\n",
       "  </tbody>\n",
       "</table>\n",
       "</div>"
      ],
      "text/plain": [
       "       rating_value review_id   user_id       user_name  user_location  \\\n",
       "2759            3.0    225851  13447096  CleverUsername    no_location   \n",
       "4382            2.0    223510      3676     Paradeiserl    no_location   \n",
       "5942            3.0    219573  13378905        Sniffers  United States   \n",
       "6510            2.0    218441  13378905        Sniffers  United States   \n",
       "11729           3.0    209155      4825   the_good_life        Germany   \n",
       "\n",
       "         scent_id                    scent_name review_text   scent_brand  \n",
       "2759   26128887.0                  17/17 Irisss         NaN       Xerjoff  \n",
       "4382   26159853.0               Halfeti Leather         NaN  Penhaligon's  \n",
       "5942   26148710.0                Enigma intense         NaN           NaN  \n",
       "6510   26148712.0                Via Dolorosa           NaN           NaN  \n",
       "11729  26150430.0  Per Fumum: A Sanctified Rose         NaN           NaN  "
      ]
     },
     "execution_count": 145,
     "metadata": {},
     "output_type": "execute_result"
    }
   ],
   "source": [
    "# sample some of the rows with null review text\n",
    "null_review_text = reviews_df[reviews_df['review_text'].isna()]\n",
    "null_review_text.head()"
   ]
  },
  {
   "cell_type": "markdown",
   "metadata": {},
   "source": [
    "The rows with null review appear to have all the other data. Rather than drop these I'm going to fill them with no_review_text."
   ]
  },
  {
   "cell_type": "code",
   "execution_count": 146,
   "metadata": {},
   "outputs": [
    {
     "data": {
      "text/plain": [
       "0"
      ]
     },
     "execution_count": 146,
     "metadata": {},
     "output_type": "execute_result"
    }
   ],
   "source": [
    "# fill null review texts with no_review_text\n",
    "reviews_df['review_text'] = reviews_df['review_text'].fillna('no_review_text')\n",
    "\n",
    "# verify that all nulls were filled\n",
    "reviews_df['review_text'].isna().sum()"
   ]
  },
  {
   "cell_type": "markdown",
   "metadata": {},
   "source": [
    "### 2.8 Scent Brand"
   ]
  },
  {
   "cell_type": "code",
   "execution_count": 147,
   "metadata": {},
   "outputs": [
    {
     "name": "stdout",
     "output_type": "stream",
     "text": [
      "Number of rows with null scent_brand: 37\n"
     ]
    }
   ],
   "source": [
    "num_null_scent_brand = reviews_df['scent_brand'].isna().sum()\n",
    "print(f\"Number of rows with null scent_brand: {num_null_scent_brand}\")"
   ]
  },
  {
   "cell_type": "code",
   "execution_count": 148,
   "metadata": {},
   "outputs": [
    {
     "data": {
      "text/html": [
       "<div>\n",
       "<style scoped>\n",
       "    .dataframe tbody tr th:only-of-type {\n",
       "        vertical-align: middle;\n",
       "    }\n",
       "\n",
       "    .dataframe tbody tr th {\n",
       "        vertical-align: top;\n",
       "    }\n",
       "\n",
       "    .dataframe thead th {\n",
       "        text-align: right;\n",
       "    }\n",
       "</style>\n",
       "<table border=\"1\" class=\"dataframe\">\n",
       "  <thead>\n",
       "    <tr style=\"text-align: right;\">\n",
       "      <th></th>\n",
       "      <th>rating_value</th>\n",
       "      <th>review_id</th>\n",
       "      <th>user_id</th>\n",
       "      <th>user_name</th>\n",
       "      <th>user_location</th>\n",
       "      <th>scent_id</th>\n",
       "      <th>scent_name</th>\n",
       "      <th>review_text</th>\n",
       "      <th>scent_brand</th>\n",
       "    </tr>\n",
       "  </thead>\n",
       "  <tbody>\n",
       "    <tr>\n",
       "      <th>0</th>\n",
       "      <td>2.0</td>\n",
       "      <td>232864</td>\n",
       "      <td>26195006</td>\n",
       "      <td>speedracer</td>\n",
       "      <td>United States</td>\n",
       "      <td>26160732.0</td>\n",
       "      <td>L'Homme Idéal Extrême</td>\n",
       "      <td>Starts off very much like the original Ideal, ...</td>\n",
       "      <td>NaN</td>\n",
       "    </tr>\n",
       "    <tr>\n",
       "      <th>1</th>\n",
       "      <td>3.0</td>\n",
       "      <td>232854</td>\n",
       "      <td>26193350</td>\n",
       "      <td>epapsiou</td>\n",
       "      <td>Sikkim</td>\n",
       "      <td>26158303.0</td>\n",
       "      <td>Fougère L'Aube</td>\n",
       "      <td>Stardate 20200815:\\n\\r\\nOpens up as bitter-gre...</td>\n",
       "      <td>NaN</td>\n",
       "    </tr>\n",
       "    <tr>\n",
       "      <th>2</th>\n",
       "      <td>3.0</td>\n",
       "      <td>232852</td>\n",
       "      <td>26210582</td>\n",
       "      <td>HouseOfPhlegethon</td>\n",
       "      <td>United States</td>\n",
       "      <td>26142534.0</td>\n",
       "      <td>Journey Woman</td>\n",
       "      <td>Jasmine almost smothers the apricot and osmant...</td>\n",
       "      <td>NaN</td>\n",
       "    </tr>\n",
       "    <tr>\n",
       "      <th>3</th>\n",
       "      <td>3.0</td>\n",
       "      <td>232851</td>\n",
       "      <td>26210582</td>\n",
       "      <td>HouseOfPhlegethon</td>\n",
       "      <td>United States</td>\n",
       "      <td>26153253.0</td>\n",
       "      <td>Eiderantler</td>\n",
       "      <td>Floral green.  Wet greens.  Sweet green notes....</td>\n",
       "      <td>NaN</td>\n",
       "    </tr>\n",
       "    <tr>\n",
       "      <th>4</th>\n",
       "      <td>3.0</td>\n",
       "      <td>232850</td>\n",
       "      <td>26210582</td>\n",
       "      <td>HouseOfPhlegethon</td>\n",
       "      <td>United States</td>\n",
       "      <td>26160913.0</td>\n",
       "      <td>Dinudisit (Sea Flowers)</td>\n",
       "      <td>Intense, sort of sweet flowers.  Big narcissus...</td>\n",
       "      <td>NaN</td>\n",
       "    </tr>\n",
       "  </tbody>\n",
       "</table>\n",
       "</div>"
      ],
      "text/plain": [
       "   rating_value review_id   user_id          user_name  user_location  \\\n",
       "0           2.0    232864  26195006         speedracer  United States   \n",
       "1           3.0    232854  26193350           epapsiou         Sikkim   \n",
       "2           3.0    232852  26210582  HouseOfPhlegethon  United States   \n",
       "3           3.0    232851  26210582  HouseOfPhlegethon  United States   \n",
       "4           3.0    232850  26210582  HouseOfPhlegethon  United States   \n",
       "\n",
       "     scent_id               scent_name  \\\n",
       "0  26160732.0    L'Homme Idéal Extrême   \n",
       "1  26158303.0           Fougère L'Aube   \n",
       "2  26142534.0            Journey Woman   \n",
       "3  26153253.0              Eiderantler   \n",
       "4  26160913.0  Dinudisit (Sea Flowers)   \n",
       "\n",
       "                                         review_text scent_brand  \n",
       "0  Starts off very much like the original Ideal, ...         NaN  \n",
       "1  Stardate 20200815:\\n\\r\\nOpens up as bitter-gre...         NaN  \n",
       "2  Jasmine almost smothers the apricot and osmant...         NaN  \n",
       "3  Floral green.  Wet greens.  Sweet green notes....         NaN  \n",
       "4  Intense, sort of sweet flowers.  Big narcissus...         NaN  "
      ]
     },
     "execution_count": 148,
     "metadata": {},
     "output_type": "execute_result"
    }
   ],
   "source": [
    "# sample some rows with null scent brand\n",
    "nulls_scent_brand = reviews_df[reviews_df['scent_brand'].isna()]\n",
    "nulls_scent_brand.head()"
   ]
  },
  {
   "cell_type": "markdown",
   "metadata": {},
   "source": [
    "Since there are only 37 of these I am going to drop them for now."
   ]
  },
  {
   "cell_type": "code",
   "execution_count": 149,
   "metadata": {},
   "outputs": [
    {
     "data": {
      "text/plain": [
       "0"
      ]
     },
     "execution_count": 149,
     "metadata": {},
     "output_type": "execute_result"
    }
   ],
   "source": [
    "# drop rows with null scent brand\n",
    "reviews_df = reviews_df[reviews_df['scent_brand'].notna()]\n",
    "\n",
    "# verify that nulls were dropped\n",
    "reviews_df['scent_brand'].isna().sum()"
   ]
  },
  {
   "cell_type": "code",
   "execution_count": 150,
   "metadata": {},
   "outputs": [
    {
     "data": {
      "text/plain": [
       "rating_value     0\n",
       "review_id        0\n",
       "user_id          0\n",
       "user_name        0\n",
       "user_location    0\n",
       "scent_id         0\n",
       "scent_name       0\n",
       "review_text      0\n",
       "scent_brand      0\n",
       "dtype: int64"
      ]
     },
     "execution_count": 150,
     "metadata": {},
     "output_type": "execute_result"
    }
   ],
   "source": [
    "# verify that no nulls remain\n",
    "reviews_df.isna().sum()"
   ]
  },
  {
   "cell_type": "code",
   "execution_count": 151,
   "metadata": {},
   "outputs": [],
   "source": [
    "# save cleaned dataframe to CSV\n",
    "reviews_df.to_csv('basenotes_reviews_df_clean.csv', index=False)"
   ]
  },
  {
   "cell_type": "code",
   "execution_count": null,
   "metadata": {},
   "outputs": [],
   "source": []
  }
 ],
 "metadata": {
  "kernelspec": {
   "display_name": "Python 3",
   "language": "python",
   "name": "python3"
  },
  "language_info": {
   "codemirror_mode": {
    "name": "ipython",
    "version": 3
   },
   "file_extension": ".py",
   "mimetype": "text/x-python",
   "name": "python",
   "nbconvert_exporter": "python",
   "pygments_lexer": "ipython3",
   "version": "3.8.3"
  }
 },
 "nbformat": 4,
 "nbformat_minor": 4
}
